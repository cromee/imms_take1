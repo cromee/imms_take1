{
 "cells": [
  {
   "cell_type": "code",
   "execution_count": null,
   "id": "f7c0421f",
   "metadata": {
    "ExecuteTime": {
     "end_time": "2022-10-26T01:05:10.543982Z",
     "start_time": "2022-10-26T01:05:09.375425Z"
    }
   },
   "outputs": [],
   "source": [
    "# 데이터 읽기\n",
    "import pandas as pd\n",
    "df_source = pd.read_csv(\"../Datasets/housing2.csv\") # Write your code here."
   ]
  },
  {
   "cell_type": "code",
   "execution_count": null,
   "id": "20482027",
   "metadata": {
    "ExecuteTime": {
     "end_time": "2022-10-26T01:05:10.573983Z",
     "start_time": "2022-10-26T01:05:10.544983Z"
    },
    "scrolled": true
   },
   "outputs": [],
   "source": [
    "# 데이터 보기\n",
    "df_source.head() "
   ]
  },
  {
   "cell_type": "code",
   "execution_count": null,
   "id": "af903107",
   "metadata": {
    "ExecuteTime": {
     "end_time": "2022-10-26T01:05:10.603985Z",
     "start_time": "2022-10-26T01:05:10.574984Z"
    }
   },
   "outputs": [],
   "source": [
    "df_source.info() "
   ]
  },
  {
   "cell_type": "code",
   "execution_count": null,
   "id": "8cf72337",
   "metadata": {
    "ExecuteTime": {
     "end_time": "2022-10-26T01:05:10.633984Z",
     "start_time": "2022-10-26T01:05:10.606985Z"
    }
   },
   "outputs": [],
   "source": [
    "# 숫자 데이터 보기 \n",
    "df_source.describe() "
   ]
  },
  {
   "cell_type": "code",
   "execution_count": null,
   "id": "b44974fc",
   "metadata": {
    "ExecuteTime": {
     "end_time": "2022-10-26T01:05:13.380113Z",
     "start_time": "2022-10-26T01:05:10.634986Z"
    }
   },
   "outputs": [],
   "source": [
    "# 히스토그램 그리기\n",
    "import matplotlib.pyplot as plt\n",
    "df_source.hist(bins=50, figsize=(20,15)) # Write your code here.\n",
    "plt.show()"
   ]
  },
  {
   "cell_type": "code",
   "execution_count": null,
   "id": "59d45f9e",
   "metadata": {
    "ExecuteTime": {
     "end_time": "2022-10-26T01:05:13.395115Z",
     "start_time": "2022-10-26T01:05:13.381112Z"
    }
   },
   "outputs": [],
   "source": [
    "# 카테고리 데이터, 데이터 종류별 갯수보기 \n",
    "df_source[\"CHAS\"].value_counts() "
   ]
  },
  {
   "cell_type": "code",
   "execution_count": null,
   "id": "ec7cc9f6",
   "metadata": {
    "ExecuteTime": {
     "end_time": "2022-10-26T01:05:20.415111Z",
     "start_time": "2022-10-26T01:05:13.397115Z"
    },
    "scrolled": false
   },
   "outputs": [],
   "source": [
    "# 두 데이터간 관계도 보기 \n",
    "from pandas.plotting import scatter_matrix\n",
    "scatter_matrix(df_source, figsize=(20, 20)); "
   ]
  },
  {
   "cell_type": "code",
   "execution_count": null,
   "id": "1cfe9d8f",
   "metadata": {
    "ExecuteTime": {
     "end_time": "2022-10-26T01:05:20.430111Z",
     "start_time": "2022-10-26T01:05:20.416111Z"
    }
   },
   "outputs": [],
   "source": [
    "# 데이터 정렬하기 \n",
    "df_source.corr()[\"CHAS\"].sort_values(ascending=False)"
   ]
  },
  {
   "cell_type": "code",
   "execution_count": null,
   "id": "d77f9e9f",
   "metadata": {
    "ExecuteTime": {
     "end_time": "2022-10-26T01:05:20.880111Z",
     "start_time": "2022-10-26T01:05:20.431112Z"
    }
   },
   "outputs": [],
   "source": [
    "# df_source.plot(kind=\"scatter\", x =\"longitude\", y =\"latitude\", \n",
    "#                alpha=0.4, s=df_source[\"population\"]/100, label=\"population\", \n",
    "#                figsize=(10,7), c=\"median_house_value\", cmap=plt.get_cmap(\"jet\"), \n",
    "#                colorbar=True,)\n",
    "# plt.legend()"
   ]
  },
  {
   "cell_type": "code",
   "execution_count": null,
   "id": "48e28373",
   "metadata": {
    "ExecuteTime": {
     "end_time": "2022-10-26T01:05:20.895111Z",
     "start_time": "2022-10-26T01:05:20.882114Z"
    }
   },
   "outputs": [],
   "source": [
    "# 데이터 라벨/숫자변수/카테고리변수로 나누기\n",
    "df_label = df_source[[\"MEDV\"]]\n",
    "df_cat = df_source[[\"CHAS\"]]\n",
    "df_num = df_source.drop(columns=df_cat.columns)\n",
    "df_num = df_num.drop(columns=df_label.columns)"
   ]
  },
  {
   "cell_type": "code",
   "execution_count": null,
   "id": "40858481",
   "metadata": {
    "ExecuteTime": {
     "end_time": "2022-10-26T01:05:20.910111Z",
     "start_time": "2022-10-26T01:05:20.896115Z"
    },
    "scrolled": false
   },
   "outputs": [],
   "source": [
    "# 잘 나눠졌나 확인하기\n",
    "df_label.columns, df_cat.columns, df_num.columns "
   ]
  },
  {
   "cell_type": "code",
   "execution_count": null,
   "id": "f01127c9",
   "metadata": {
    "ExecuteTime": {
     "end_time": "2022-10-26T01:05:20.925508Z",
     "start_time": "2022-10-26T01:05:20.911112Z"
    }
   },
   "outputs": [],
   "source": [
    "# row 기준, 결측치 갯수 보기 \n",
    "df_source.isnull().sum(axis=0)"
   ]
  },
  {
   "cell_type": "code",
   "execution_count": null,
   "id": "5eedbfd3",
   "metadata": {
    "ExecuteTime": {
     "end_time": "2022-10-26T01:05:20.955510Z",
     "start_time": "2022-10-26T01:05:20.926512Z"
    },
    "scrolled": true
   },
   "outputs": [],
   "source": [
    "# column 기준 결측치가 있는 데이터 보기 \n",
    "df_source[df_source.isnull().any(axis=1)] "
   ]
  },
  {
   "cell_type": "code",
   "execution_count": null,
   "id": "b6315166",
   "metadata": {
    "ExecuteTime": {
     "end_time": "2022-10-26T01:05:20.985511Z",
     "start_time": "2022-10-26T01:05:20.956513Z"
    }
   },
   "outputs": [],
   "source": [
    "# 결측치가 있는 모든 row 삭제 하기 \n",
    "df_source_nona = df_source.dropna(axis=0)\n",
    "\n",
    "# 결측치가 있는 모든 column 삭제 하기 \n",
    "df_source_nona = df_source.dropna(axis=1)\n",
    "\n",
    "# 특정 Column (MEDV) 에서 결측치 제거 하기 \n",
    "df_source_nona = df_source.dropna(subset=[\"MEDV\"]) \n"
   ]
  },
  {
   "cell_type": "code",
   "execution_count": null,
   "id": "b963ddb8",
   "metadata": {},
   "outputs": [],
   "source": [
    "df_source_nona"
   ]
  },
  {
   "cell_type": "code",
   "execution_count": null,
   "id": "d2cd402a",
   "metadata": {
    "ExecuteTime": {
     "end_time": "2022-10-26T01:05:21.000513Z",
     "start_time": "2022-10-26T01:05:20.986515Z"
    }
   },
   "outputs": [],
   "source": [
    "#결측치를 제거하고 사용하고 싶을 경우 아래 주석 활성화\n",
    "#df_source = df_source_nona\n",
    "#df_cat = df_cat[df_cat.index.isin(df_source.index)]\n",
    "#df_num = df_num[df_num.index.isin(df_source.index)]\n",
    "#df_label = df_label[df_label.index.isin(df_source.index)]"
   ]
  },
  {
   "cell_type": "code",
   "execution_count": null,
   "id": "e4f7e7bf",
   "metadata": {},
   "outputs": [],
   "source": [
    "# 특정 조건을 만족하는 데이터만 뽑기 \n",
    "\n",
    "# 조건을 먼저 선언\n",
    "# MEDV 열의 값이 5000이상인 경우\n",
    "condition1 = df_source['MEDV'] > 5000\n",
    "# MEDV 열의 값이 5000이상이거나 2500 이하인 경우\n",
    "condition2 = (df_source['MEDV'] > 5000) | (df_source['MEDV'] < 2500)\n",
    "# MEDV 열의 값이 5000이 아닌경우\n",
    "condition1 = df_source['MEDV'] != 5000\n",
    "# 데이터가 string인 경우는 ' ' \n",
    "\n",
    "\n",
    "# Condition을 만족하는 값만 남기기\n",
    "df_new = df_source[condition1]\n",
    "# Condition을 만족하지 값만 삭제하기\n",
    "df_new = df_source[~condition1]\n",
    "\n",
    "# 특정 조건을 만족하는 데이터를 삭제 할 때 인덱스를 이용하는 방법 \n",
    "idx = df_source[condition2].index\n",
    "df_new = df_source.drop(idx)\n",
    "\n",
    "#df_source 자체를 바꾸고 싶으면 inplace=True 를 함수 내에 넣으면 되지만, 웬만하면 df_source 원본은 건드리지 말자!"
   ]
  },
  {
   "cell_type": "code",
   "execution_count": null,
   "id": "cd6584f5",
   "metadata": {
    "ExecuteTime": {
     "end_time": "2022-10-26T01:05:22.996815Z",
     "start_time": "2022-10-26T01:05:21.001513Z"
    }
   },
   "outputs": [],
   "source": [
    "from sklearn.impute import SimpleImputer\n",
    "# SimpleImputer?"
   ]
  },
  {
   "cell_type": "code",
   "execution_count": null,
   "id": "c5b85d4f",
   "metadata": {
    "ExecuteTime": {
     "end_time": "2022-10-26T01:05:23.026815Z",
     "start_time": "2022-10-26T01:05:22.997818Z"
    }
   },
   "outputs": [],
   "source": [
    "# median 값으로 inputing 하기 \n",
    "imputer = SimpleImputer(strategy=\"median\") \n",
    "# Options: mean, median, most_frequent, constant(eg., fill_value=0)\n",
    "df_num_imputed = imputer.fit_transform(df_num)\n",
    "df_num_imputed = pd.DataFrame(df_num_imputed, columns=df_num.columns)\n",
    "df_num_imputed"
   ]
  },
  {
   "cell_type": "code",
   "execution_count": null,
   "id": "7c225be6",
   "metadata": {
    "ExecuteTime": {
     "end_time": "2022-10-26T01:05:23.056815Z",
     "start_time": "2022-10-26T01:05:23.027816Z"
    }
   },
   "outputs": [],
   "source": [
    "#impute 한 후 결측치가 있는지 확인하기 \n",
    "df_num_imputed[df_source.isnull().any(axis=1)]"
   ]
  },
  {
   "cell_type": "code",
   "execution_count": null,
   "id": "97995bbf",
   "metadata": {
    "ExecuteTime": {
     "end_time": "2022-10-26T01:05:23.071817Z",
     "start_time": "2022-10-26T01:05:23.058817Z"
    }
   },
   "outputs": [],
   "source": [
    "#impute된 값을 이용하려면 아래 주석 활성화\n",
    "# df_num = df_num_imputed"
   ]
  },
  {
   "cell_type": "code",
   "execution_count": null,
   "id": "25e7823e",
   "metadata": {
    "ExecuteTime": {
     "end_time": "2022-10-26T01:05:23.101816Z",
     "start_time": "2022-10-26T01:05:23.072817Z"
    },
    "scrolled": true
   },
   "outputs": [],
   "source": [
    "# 아웃라이어 찾기 (특정 조건을 벗어나는 값 찾기)\n",
    "df_outliers =\\\n",
    "    df_source[(df_source['CHAS']!=0)&(df_source['CHAS']!=1)]\n",
    "df_outliers\n",
    "\n",
    "# 아웃라이어 삭제한 데이터 프레임 얻기\n",
    "df_source_nool = df_source[~df_source.index.isin(df_outliers.index)] # Write your code here.\n",
    "df_source_nool"
   ]
  },
  {
   "cell_type": "code",
   "execution_count": null,
   "id": "8318be61",
   "metadata": {},
   "outputs": [],
   "source": [
    "#IRQ 값으로 제거하기 \n",
    "import numpy as np\n",
    "\n",
    "def get_outlier(df=None, column=None, weight=1.5):\n",
    "  quantile_25 = np.percentile(df[column].values, 25)\n",
    "  quantile_75 = np.percentile(df[column].values, 75)\n",
    "\n",
    "  IQR = quantile_75 - quantile_25\n",
    "  IQR_weight = IQR*weight\n",
    "  \n",
    "  lowest = quantile_25 - IQR_weight\n",
    "  highest = quantile_75 + IQR_weight\n",
    "  \n",
    "  outlier_idx = df[column][ (df[column] < lowest) | (df[column] > highest) ].index\n",
    "  return outlier_idx\n",
    "\n",
    "# 함수 사용해서 'MEDV' column 의 이상치 값 삭제\n",
    "outlier_idx = get_outlier(df=df_source, column='MEDV', weight=1.5) #weight = 3 이면 3IQR 값으로 진행\n",
    "df_source_nool = df_source.drop(outlier_idx, axis=0)"
   ]
  },
  {
   "cell_type": "code",
   "execution_count": null,
   "id": "0f73e5e2",
   "metadata": {
    "ExecuteTime": {
     "end_time": "2022-10-26T01:05:24.407236Z",
     "start_time": "2022-10-26T01:05:23.133238Z"
    }
   },
   "outputs": [],
   "source": [
    "df_source_nool.hist(bins=50, figsize=(20,15)); # Write your code here."
   ]
  },
  {
   "cell_type": "code",
   "execution_count": null,
   "id": "939ad731",
   "metadata": {
    "ExecuteTime": {
     "end_time": "2022-10-26T01:05:24.422236Z",
     "start_time": "2022-10-26T01:05:24.409238Z"
    }
   },
   "outputs": [],
   "source": [
    "# 아웃라이어 삭제한 값으로 다시 num/cat/label 나누기 \n",
    "df_source = df_source_nool\n",
    "df_num = df_num[df_num.index.isin(df_source.index)] # Write your code here.\n",
    "df_cat = df_cat[df_cat.index.isin(df_source.index)] # Write your code here.\n",
    "df_label = df_label[df_label.index.isin(df_source.index)] # Write your code here."
   ]
  },
  {
   "cell_type": "code",
   "execution_count": null,
   "id": "6e2acb23",
   "metadata": {
    "ExecuteTime": {
     "end_time": "2022-10-26T01:05:24.437235Z",
     "start_time": "2022-10-26T01:05:24.423236Z"
    }
   },
   "outputs": [],
   "source": [
    "# 카테고리 데이터 encoding 하기 \n",
    "# cat_map = {\"ISLAND\":0, \"<1H OCEAN\":1, \"NEAR OCEAN\":2, \"NEAR BAY\":3, \"INLAND\":4}\n",
    "# inv_cat_map = {v: k for k, v in cat_map.items()}\n",
    "# df_cat_encoded = df_source[\"ocean_proximity\"].map(cat_map)\n",
    "# df_cat_encoded = pd.DataFrame(df_cat_encoded, columns=df_cat.columns)\n",
    "# df_cat_encoded"
   ]
  },
  {
   "cell_type": "code",
   "execution_count": null,
   "id": "dba3a215",
   "metadata": {
    "ExecuteTime": {
     "end_time": "2022-10-26T01:05:24.452236Z",
     "start_time": "2022-10-26T01:05:24.438237Z"
    }
   },
   "outputs": [],
   "source": [
    "# type(df_cat_encoded.squeeze())"
   ]
  },
  {
   "cell_type": "code",
   "execution_count": null,
   "id": "b55eb8a0",
   "metadata": {
    "ExecuteTime": {
     "end_time": "2022-10-26T01:05:24.467235Z",
     "start_time": "2022-10-26T01:05:24.453237Z"
    }
   },
   "outputs": [],
   "source": [
    "# df_cat_encoded.squeeze().map(inv_cat_map)"
   ]
  },
  {
   "cell_type": "code",
   "execution_count": null,
   "id": "b7d87b3f",
   "metadata": {
    "ExecuteTime": {
     "end_time": "2022-10-26T01:05:24.482645Z",
     "start_time": "2022-10-26T01:05:24.468236Z"
    }
   },
   "outputs": [],
   "source": [
    "#df_cat = df_cat_encoded"
   ]
  },
  {
   "cell_type": "code",
   "execution_count": null,
   "id": "26e9fac3",
   "metadata": {
    "ExecuteTime": {
     "end_time": "2022-10-26T01:05:24.512554Z",
     "start_time": "2022-10-26T01:05:24.486649Z"
    }
   },
   "outputs": [],
   "source": [
    "# ordinar 인코딩 아닌경우 아래 활성화 시켜서 일괄 one hot encoding \n",
    "\n",
    "# from sklearn.preprocessing import OneHotEncoder\n",
    "# encoder = OneHotEncoder(sparse=False)\n",
    "# df_cat_encoded = encoder.fit_transform(df_cat).astype(int)\n",
    "# df_cat_encoded = pd.DataFrame(df_cat_encoded, columns=encoder.categories_[0].tolist(), index=df_cat.index) # encoder.categories_ is a list of array\n",
    "# df_cat_encoded"
   ]
  },
  {
   "cell_type": "code",
   "execution_count": null,
   "id": "5daf3686",
   "metadata": {
    "ExecuteTime": {
     "end_time": "2022-10-26T01:05:24.527557Z",
     "start_time": "2022-10-26T01:05:24.513562Z"
    }
   },
   "outputs": [],
   "source": [
    "# df_cat = df_cat_encoded"
   ]
  },
  {
   "cell_type": "code",
   "execution_count": null,
   "id": "f58b8e44",
   "metadata": {
    "ExecuteTime": {
     "end_time": "2022-10-26T01:05:25.622558Z",
     "start_time": "2022-10-26T01:05:24.528559Z"
    }
   },
   "outputs": [],
   "source": [
    "# Feature 추가 \n",
    "# df_num[\"rooms_per_household\"] = df_num[\"total_rooms\"] / df_num[\"households\"]\n",
    "# df_num[\"bedrooms_per_room\"] = df_num[\"total_bedrooms\"] / df_num[\"total_rooms\"]\n",
    "# df_num[\"population_per_household\"] = df_num[\"population\"] / df_num[\"households\"]"
   ]
  },
  {
   "cell_type": "code",
   "execution_count": null,
   "id": "29d7ea5b",
   "metadata": {
    "ExecuteTime": {
     "end_time": "2022-10-26T01:05:25.652558Z",
     "start_time": "2022-10-26T01:05:25.624558Z"
    },
    "scrolled": false
   },
   "outputs": [],
   "source": [
    "# 추가한 Feature에 대해 correlation 확인\n",
    "# df_corr = pd.merge(df_num, df_label, left_index=True, right_index=True).corr()\n",
    "# df_corr[\"median_house_value\"].sort_values(ascending=False)"
   ]
  },
  {
   "cell_type": "code",
   "execution_count": null,
   "id": "077f38b7",
   "metadata": {
    "ExecuteTime": {
     "end_time": "2022-10-26T01:05:25.667560Z",
     "start_time": "2022-10-26T01:05:25.653559Z"
    }
   },
   "outputs": [],
   "source": [
    "from sklearn.preprocessing import PolynomialFeatures\n",
    "# PolynomialFeatures?"
   ]
  },
  {
   "cell_type": "code",
   "execution_count": null,
   "id": "7ca30c3e",
   "metadata": {
    "ExecuteTime": {
     "end_time": "2022-10-26T01:05:25.712557Z",
     "start_time": "2022-10-26T01:05:25.669559Z"
    },
    "scrolled": false
   },
   "outputs": [],
   "source": [
    "# 다항 변수 추가\n",
    "polyfeat = PolynomialFeatures(degree=2, include_bias=False)\n",
    "df_num_poly = polyfeat.fit_transform(df_num)\n",
    "df_num_poly = pd.DataFrame(df_num_poly, columns=polyfeat.get_feature_names_out().tolist(), index=df_num.index)\n",
    "df_num_poly"
   ]
  },
  {
   "cell_type": "code",
   "execution_count": null,
   "id": "8dd40d60",
   "metadata": {
    "ExecuteTime": {
     "end_time": "2022-10-26T01:05:25.727558Z",
     "start_time": "2022-10-26T01:05:25.713558Z"
    }
   },
   "outputs": [],
   "source": [
    "#추가된 변수 이름 보기 \n",
    "polyfeat.get_feature_names_out()"
   ]
  },
  {
   "cell_type": "code",
   "execution_count": null,
   "id": "6cbfc150",
   "metadata": {
    "ExecuteTime": {
     "end_time": "2022-10-26T01:05:25.742559Z",
     "start_time": "2022-10-26T01:05:25.728560Z"
    }
   },
   "outputs": [],
   "source": [
    "#polynomial feature 사용하려면 아래 활성화\n",
    "# df_num = df_num_poly"
   ]
  },
  {
   "cell_type": "code",
   "execution_count": null,
   "id": "952636e3",
   "metadata": {
    "ExecuteTime": {
     "end_time": "2022-10-26T01:05:25.757557Z",
     "start_time": "2022-10-26T01:05:25.743559Z"
    }
   },
   "outputs": [],
   "source": [
    "from sklearn.model_selection import train_test_split\n",
    "\n",
    "# Train/test set 나누기\n",
    "X_num_train, X_num_test, X_cat_train, X_cat_test, y_train, y_test = \\\n",
    "    train_test_split(df_num, df_cat, df_label, test_size=.2, random_state=42)\n",
    "\n",
    "# Train/valid set 나누기\n",
    "X_num_train, X_num_valid, X_cat_train, X_cat_valid, y_train, y_valid = \\\n",
    "    train_test_split(X_num_train, X_cat_train, y_train, test_size=.3, random_state=42)"
   ]
  },
  {
   "cell_type": "code",
   "execution_count": null,
   "id": "dcfd3cea",
   "metadata": {
    "ExecuteTime": {
     "end_time": "2022-10-26T01:05:25.772557Z",
     "start_time": "2022-10-26T01:05:25.758559Z"
    }
   },
   "outputs": [],
   "source": [
    "# X_train.shape"
   ]
  },
  {
   "cell_type": "code",
   "execution_count": null,
   "id": "f001f60e",
   "metadata": {
    "ExecuteTime": {
     "end_time": "2022-10-26T01:05:25.787557Z",
     "start_time": "2022-10-26T01:05:25.774559Z"
    },
    "scrolled": true
   },
   "outputs": [],
   "source": [
    "# 숫자변수 Scaling 하기 \n",
    "from sklearn.preprocessing import StandardScaler\n",
    "# StandardScaler?"
   ]
  },
  {
   "cell_type": "code",
   "execution_count": null,
   "id": "9a3d3f16",
   "metadata": {
    "ExecuteTime": {
     "end_time": "2022-10-26T01:05:25.817562Z",
     "start_time": "2022-10-26T01:05:25.788559Z"
    }
   },
   "outputs": [],
   "source": [
    "# 숫자변수 Scaling 하기 \n",
    "scaler = StandardScaler()\n",
    "X_num_train_scaled = scaler.fit(X_num_train)      # fit() is only for training set!\n",
    "X_num_train_scaled = scaler.transform(X_num_train)\n",
    "X_num_valid_scaled = scaler.transform(X_num_valid)\n",
    "X_num_test_scaled  = scaler.transform(X_num_test)\n",
    "X_num_train_scaled = pd.DataFrame(X_num_train_scaled, columns=X_num_train.columns, index=X_num_train.index)\n",
    "X_num_valid_scaled = pd.DataFrame(X_num_valid_scaled, columns=X_num_valid.columns, index=X_num_valid.index)\n",
    "X_num_test_scaled  = pd.DataFrame(X_num_test_scaled , columns=X_num_test.columns , index=X_num_test.index)\n",
    "X_num_train_scaled"
   ]
  },
  {
   "cell_type": "code",
   "execution_count": null,
   "id": "fa3717c8",
   "metadata": {
    "ExecuteTime": {
     "end_time": "2022-10-26T01:05:25.832558Z",
     "start_time": "2022-10-26T01:05:25.819560Z"
    }
   },
   "outputs": [],
   "source": [
    "# scaled value 사용하려면 아래 활성화\n",
    "# X_num_train = X_num_train_scaled\n",
    "# X_num_valid = X_num_valid_scaled\n",
    "# X_num_test  = X_num_test_scaled"
   ]
  },
  {
   "cell_type": "code",
   "execution_count": null,
   "id": "0495d490",
   "metadata": {
    "ExecuteTime": {
     "end_time": "2022-10-26T01:05:25.847558Z",
     "start_time": "2022-10-26T01:05:25.833558Z"
    }
   },
   "outputs": [],
   "source": [
    "# scaled value 원복 하기 \n",
    "# X_num_train = scaler.inverse_transform(X_num_train_scaled)\n",
    "# X_num_valid = scaler.inverse_transform(X_num_valid_scaled)\n",
    "# X_num_test  = scaler.inverse_transform(X_num_test_scaled)\n",
    "# X_num_train = pd.DataFrame(X_num_train, columns=X_num_train_scaled.columns, index=X_num_train_scaled.index)\n",
    "# X_num_valid = pd.DataFrame(X_num_valid, columns=X_num_valid_scaled.columns, index=X_num_valid_scaled.index)\n",
    "# X_num_test  = pd.DataFrame(X_num_test , columns=X_num_test_scaled.columns , index=X_num_test_scaled.index)"
   ]
  },
  {
   "cell_type": "code",
   "execution_count": null,
   "id": "e8f01e31",
   "metadata": {
    "ExecuteTime": {
     "end_time": "2022-10-26T01:05:25.877557Z",
     "start_time": "2022-10-26T01:05:25.849559Z"
    },
    "scrolled": false
   },
   "outputs": [],
   "source": [
    "# 전처리가 끝났으면 num/cat 변수를 학습데이터로 Merge.\n",
    "X_train = pd.merge(X_num_train, X_cat_train, left_index=True, right_index=True)\n",
    "X_valid = pd.merge(X_num_valid, X_cat_valid, left_index=True, right_index=True)\n",
    "X_test  = pd.merge(X_num_test , X_cat_test , left_index=True, right_index=True)\n",
    "\n",
    "X_train"
   ]
  },
  {
   "cell_type": "code",
   "execution_count": null,
   "id": "f4bf76c9",
   "metadata": {
    "ExecuteTime": {
     "end_time": "2022-10-26T01:05:25.892557Z",
     "start_time": "2022-10-26T01:05:25.878560Z"
    }
   },
   "outputs": [],
   "source": [
    "from sklearn.linear_model import LinearRegression\n",
    "# LinearRegression?"
   ]
  },
  {
   "cell_type": "code",
   "execution_count": null,
   "id": "ae0e73e7",
   "metadata": {},
   "outputs": [],
   "source": [
    "#linearRegression 기본 모델 학습하기 \n",
    "# RMSE 값 같이 확인하기\n",
    "\n",
    "from sklearn.metrics import mean_squared_error\n",
    "lin_reg = LinearRegression()\n",
    "lin_reg.fit(X_train, y_train)\n",
    "\n",
    "y_train_pred = lin_reg.predict(X_train)\n",
    "y_valid_pred = lin_reg.predict(X_valid)\n",
    "\n",
    "rmse_ridge_train = mean_squared_error(y_train, y_train_pred, squared=False) #squared=False 이면 root값으로 return\n",
    "rmse_ridge_valid = mean_squared_error(y_valid, y_valid_pred, squared=False)\n",
    "\n",
    "print(\"Ridge Regression Model's RMSE\")\n",
    "print(rmse_ridge_train)\n",
    "print(rmse_ridge_valid)\n",
    "print()\n",
    "print(\"Ridge Regression Model's R^2\")\n",
    "print(lin_reg.score(X_train, y_train))\n",
    "print(lin_reg.score(X_valid, y_valid))"
   ]
  },
  {
   "cell_type": "code",
   "execution_count": null,
   "id": "62c9c7cf",
   "metadata": {
    "ExecuteTime": {
     "end_time": "2022-10-26T01:05:25.937557Z",
     "start_time": "2022-10-26T01:05:25.924558Z"
    }
   },
   "outputs": [],
   "source": [
    "#Regulation 적용하기 \n",
    "\n"
   ]
  },
  {
   "cell_type": "code",
   "execution_count": null,
   "id": "3016c44d",
   "metadata": {
    "ExecuteTime": {
     "end_time": "2022-10-26T01:05:25.982559Z",
     "start_time": "2022-10-26T01:05:25.939559Z"
    }
   },
   "outputs": [],
   "source": [
    "# Ridge 기본 모델 학습하기\n",
    "from sklearn.linear_model import Ridge\n",
    "# Ridge?\n",
    "\n",
    "ridge_reg = Ridge(random_state=42) # alpha 기본값은 ??\n",
    "ridge_reg.fit(X_train, y_train)\n",
    "print(\"Ridge Regression Model's R^2\")\n",
    "print(ridge_reg.score(X_train, y_train))\n",
    "print(ridge_reg.score(X_valid, y_valid))"
   ]
  },
  {
   "cell_type": "code",
   "execution_count": null,
   "id": "e6613a82",
   "metadata": {},
   "outputs": [],
   "source": [
    "# Ridge best alpha 찾기\n",
    "lst_train_score = []\n",
    "lst_valid_score = []\n",
    "lst_alpha = [1e-8, 1e-7, 1e-6, 1e-5, 1e-4, 1e-3, 1e-2, 1e-1, 1e0, \n",
    "             1e1, 1e2, 1e3, 1e4, 1e5, 1e6, 1e7, 1e8, 1e9\n",
    "            ]\n",
    "for alpha in lst_alpha:\n",
    "    # Train a Ridge regression model\n",
    "    ridge_reg = Ridge(alpha=alpha, random_state=42)\n",
    "    ridge_reg.fit(X_train, y_train)\n",
    "    # Store train and validation scores\n",
    "    lst_train_score.append(ridge_reg.score(X_train, y_train))\n",
    "    lst_valid_score.append(ridge_reg.score(X_valid, y_valid))"
   ]
  },
  {
   "cell_type": "code",
   "execution_count": null,
   "id": "9f76d12a",
   "metadata": {},
   "outputs": [],
   "source": [
    "# alpha 값에 따른 R square값 변화 보기 \n",
    "import numpy as np\n",
    "\n",
    "plt.figure(figsize=(10, 8))\n",
    "plt.plot(np.log10(lst_alpha), lst_train_score, label=\"training score\")\n",
    "plt.plot(np.log10(lst_alpha), lst_valid_score, label=\"validation score\")\n",
    "plt.xlabel('alpha')\n",
    "plt.ylabel('R^2')\n",
    "plt.legend(loc=\"lower right\", fontsize=14)\n",
    "plt.show()"
   ]
  },
  {
   "cell_type": "code",
   "execution_count": null,
   "id": "2f40b17b",
   "metadata": {},
   "outputs": [],
   "source": [
    "# Best alpha로 학습한값 확인하기\n",
    "best_alpha = lst_alpha[np.argmax(lst_valid_score)]\n",
    "print(\"validation score:\", lst_valid_score)\n",
    "print(\"best alpha:\", best_alpha)\n",
    "\n",
    "ridge_reg = Ridge(alpha=best_alpha, random_state=42)\n",
    "ridge_reg.fit(X_train, y_train)\n",
    "\n",
    "print(\"R^2 on training-set:\", ridge_reg.score(X_train, y_train))\n",
    "print(\"R^2 on validation-set:\", ridge_reg.score(X_valid, y_valid))\n"
   ]
  },
  {
   "cell_type": "code",
   "execution_count": null,
   "id": "018c4aa3",
   "metadata": {
    "ExecuteTime": {
     "end_time": "2022-10-26T01:05:26.537559Z",
     "start_time": "2022-10-26T01:05:25.984559Z"
    }
   },
   "outputs": [],
   "source": [
    "# Lasso 기본 모델 학습하기\n",
    "from sklearn.linear_model import Lasso\n",
    "# Lasso?\n",
    "\n",
    "lasso_reg = Lasso(random_state=42, max_iter=10000) #iter 기본값??\n",
    "lasso_reg.fit(X_train, y_train)\n",
    "\n",
    "y_train_pred = lasso_reg.predict(X_train)\n",
    "y_valid_pred = lasso_reg.predict(X_valid)\n",
    "\n",
    "rmse_lasso_train = mean_squared_error(y_train, y_train_pred, squared=False)\n",
    "rmse_lasso_valid = mean_squared_error(y_valid, y_valid_pred, squared=False)\n",
    "\n",
    "print(\"Lasso Regression Model's RMSE\")\n",
    "print(rmse_lasso_train)\n",
    "print(rmse_lasso_valid)\n",
    "print()\n",
    "print(\"Lasso Regression Model's R^2\")\n",
    "print(lasso_reg.score(X_train, y_train))\n",
    "print(lasso_reg.score(X_valid, y_valid))"
   ]
  },
  {
   "cell_type": "code",
   "execution_count": null,
   "id": "e7802b8b",
   "metadata": {},
   "outputs": [],
   "source": [
    "# Lasso best alpha 찾기\n",
    "lst_train_score = []\n",
    "lst_valid_score = []\n",
    "lst_alpha = [1e-7, 1e-6, 1e-5, 1e-4, 1e-3, 1e-2, 1e-1, 1e0, 1e1, 1e2, 1e3, 1e4, 1e5]\n",
    "for alpha in lst_alpha:\n",
    "    # Train a Lasso regression model\n",
    "    lasso_reg = Lasso(alpha=alpha, max_iter=1e5, random_state=42)\n",
    "    lasso_reg.fit(X_train, y_train)\n",
    "    # Store train and validation scores\n",
    "    lst_train_score.append(lasso_reg.score(X_train, y_train))\n",
    "    lst_valid_score.append(lasso_reg.score(X_valid, y_valid))"
   ]
  },
  {
   "cell_type": "code",
   "execution_count": null,
   "id": "1256eb93",
   "metadata": {},
   "outputs": [],
   "source": [
    "# alpha 값에 따른 R square값 변화 보기 \n",
    "plt.figure(figsize=(10, 8))\n",
    "plt.plot(np.log10(lst_alpha), lst_train_score, label=\"training score\")\n",
    "plt.plot(np.log10(lst_alpha), lst_valid_score, label=\"validation score\")\n",
    "plt.xlabel('alpha')\n",
    "plt.ylabel('R^2')\n",
    "plt.legend(loc=\"lower right\", fontsize=14)\n",
    "plt.show()"
   ]
  },
  {
   "cell_type": "code",
   "execution_count": null,
   "id": "4a159c66",
   "metadata": {},
   "outputs": [],
   "source": [
    "# Best alpha로 학습한값 확인하기\n",
    "best_alpha = lst_alpha[np.argmax(lst_valid_score)]\n",
    "print(\"best alpha:\", best_alpha)\n",
    "\n",
    "lasso_reg = Lasso(alpha=best_alpha, random_state=42)\n",
    "lasso_reg.fit(X_train, y_train)\n",
    "\n",
    "print(lasso_reg.score(X_train, y_train))\n",
    "print(lasso_reg.score(X_valid, y_valid))"
   ]
  },
  {
   "cell_type": "code",
   "execution_count": null,
   "id": "30361afc",
   "metadata": {
    "ExecuteTime": {
     "end_time": "2022-10-26T01:05:26.567557Z",
     "start_time": "2022-10-26T01:05:26.539560Z"
    }
   },
   "outputs": [],
   "source": [
    "#ElasticNet 기본 모델 학습하기 \n",
    "from sklearn.linear_model import ElasticNet\n",
    "# ElasticNet?\n",
    "\n",
    "elnet_reg = ElasticNet(random_state=42)\n",
    "elnet_reg.fit(X_train, y_train)\n",
    "\n",
    "y_train_pred = elnet_reg.predict(X_train)\n",
    "y_valid_pred = elnet_reg.predict(X_valid)\n",
    "\n",
    "rmse_elnet_train = mean_squared_error(y_train, y_train_pred, squared=False)\n",
    "rmse_elnet_valid = mean_squared_error(y_valid, y_valid_pred, squared=False)\n",
    "\n",
    "print(\"ElasticNet Regression Model's RMSE\")\n",
    "print(rmse_elnet_train)\n",
    "print(rmse_elnet_valid)\n",
    "print()\n",
    "print(\"ElasticNet Regression Model's R^2\")\n",
    "print(elnet_reg.score(X_train, y_train))\n",
    "print(elnet_reg.score(X_valid, y_valid))"
   ]
  },
  {
   "cell_type": "code",
   "execution_count": null,
   "id": "8bd68024",
   "metadata": {},
   "outputs": [],
   "source": [
    "# ElasticNet best alpha 찾기\n",
    "lst_train_score = []\n",
    "lst_valid_score = []\n",
    "lst_alpha = [1e-7, 1e-6, 1e-5, 1e-4, 1e-3, 1e-2, 1e-1, 1e0, \n",
    "             1e1, 1e2, 1e3, 1e4, 1e5\n",
    "            ]\n",
    "for alpha in lst_alpha:\n",
    "    # Train a Elastic Net model\n",
    "    elnet_reg = ElasticNet(alpha=alpha, max_iter=1e5, random_state=42)\n",
    "    elnet_reg.fit(X_train, y_train)\n",
    "    # Store train and validation scores\n",
    "    lst_train_score.append(elnet_reg.score(X_train, y_train))\n",
    "    lst_valid_score.append(elnet_reg.score(X_valid, y_valid))"
   ]
  },
  {
   "cell_type": "code",
   "execution_count": null,
   "id": "c4f62b82",
   "metadata": {},
   "outputs": [],
   "source": [
    "# alpha 값에 따른 R square값 변화 보기 \n",
    "plt.figure(figsize=(10, 8))\n",
    "plt.plot(np.log10(lst_alpha), lst_train_score, label=\"training score\")\n",
    "plt.plot(np.log10(lst_alpha), lst_valid_score, label=\"validation score\")\n",
    "#plt.plot(np.log10(lst_alpha), test_score, label=\"test score\")\n",
    "plt.xlabel('alpha')\n",
    "plt.ylabel('R^2')\n",
    "plt.legend(loc=\"lower right\", fontsize=14)\n",
    "plt.show()"
   ]
  },
  {
   "cell_type": "code",
   "execution_count": null,
   "id": "2f59945c",
   "metadata": {},
   "outputs": [],
   "source": [
    "# Best alpha로 학습한값 확인하기\n",
    "best_alpha = lst_alpha[np.argmax(lst_valid_score)]\n",
    "print(\"best alpha:\", best_alpha)\n",
    "\n",
    "elnet_reg = ElasticNet(alpha=best_alpha, random_state=42)\n",
    "elnet_reg.fit(X_train, y_train)\n",
    "\n",
    "print(elnet_reg.score(X_train, y_train))\n",
    "print(elnet_reg.score(X_valid, y_valid))"
   ]
  },
  {
   "cell_type": "code",
   "execution_count": null,
   "id": "67616431",
   "metadata": {
    "ExecuteTime": {
     "end_time": "2022-10-26T01:05:26.582558Z",
     "start_time": "2022-10-26T01:05:26.568558Z"
    }
   },
   "outputs": [],
   "source": [
    "# 스토케스틱 Regressor 모델 학습하기 \n",
    "from sklearn.linear_model import SGDRegressor\n",
    "# SGDRegressor?"
   ]
  },
  {
   "cell_type": "code",
   "execution_count": null,
   "id": "3e85266c",
   "metadata": {
    "ExecuteTime": {
     "end_time": "2022-10-26T01:05:31.802558Z",
     "start_time": "2022-10-26T01:05:26.584559Z"
    },
    "scrolled": true
   },
   "outputs": [],
   "source": [
    "# 규제 없는 SGD plain 모델 학습하기\n",
    "# verbose = 2 => log 보기 \n",
    "sgd_plain_reg = SGDRegressor(random_state=42,\n",
    "                             verbose=0,\n",
    "                             penalty=None,\n",
    "                             eta0=1e-4, # 기본값 ??\n",
    "                             max_iter=1e4, # 기본값 ??\n",
    "                            ) \n",
    "\n",
    "sgd_plain_reg.fit(X_train, y_train.to_numpy().ravel()) \n",
    "\n",
    "print(\"train score:\", sgd_plain_reg.score(X_train, y_train.to_numpy().ravel()))\n",
    "print(\"validation score:\", sgd_plain_reg.score(X_valid, y_valid.to_numpy().ravel()))"
   ]
  },
  {
   "cell_type": "code",
   "execution_count": null,
   "id": "2d155d93",
   "metadata": {
    "ExecuteTime": {
     "end_time": "2022-10-26T01:05:37.142557Z",
     "start_time": "2022-10-26T01:05:31.819559Z"
    },
    "scrolled": true
   },
   "outputs": [],
   "source": [
    "# L2 SGD 모델 학습하기\n",
    "sgd_ridge_reg = SGDRegressor(random_state=42,\n",
    "                             verbose=0,\n",
    "                             penalty='l2',\n",
    "                             eta0=1e-4,\n",
    "                             max_iter=1e4\n",
    "                            ) \n",
    "sgd_ridge_reg.fit(X_train, y_train.to_numpy().ravel()) \n",
    "\n",
    "print(\"train score:\", sgd_ridge_reg.score(X_train, y_train))\n",
    "print(\"validation score:\", sgd_ridge_reg.score(X_valid, y_valid)) "
   ]
  },
  {
   "cell_type": "code",
   "execution_count": null,
   "id": "defe8e95",
   "metadata": {
    "ExecuteTime": {
     "end_time": "2022-10-26T01:05:37.352556Z",
     "start_time": "2022-10-26T01:05:37.158560Z"
    }
   },
   "outputs": [],
   "source": [
    "# L1 SGD 모델 학습하기\n",
    "sgd_lasso_reg = SGDRegressor(random_state=42,\n",
    "                             verbose=0,\n",
    "                             penalty='l1',\n",
    "                             eta0=1e-3,\n",
    "#                              max_iter=1e4,\n",
    "                            ) \n",
    "sgd_lasso_reg.fit(X_train, y_train.to_numpy().ravel())\n",
    "\n",
    "print(sgd_lasso_reg.score(X_train, y_train))\n",
    "print(sgd_lasso_reg.score(X_valid, y_valid))"
   ]
  },
  {
   "cell_type": "code",
   "execution_count": null,
   "id": "5af81a9e",
   "metadata": {
    "ExecuteTime": {
     "end_time": "2022-10-26T01:05:37.562558Z",
     "start_time": "2022-10-26T01:05:37.368559Z"
    }
   },
   "outputs": [],
   "source": [
    "# elasticnet SGD 모델 학습하기\n",
    "sgd_elnet_reg = SGDRegressor(random_state=42,\n",
    "#                              verbose=2,\n",
    "                             penalty='elasticnet',\n",
    "                            #  eta0=1e-3,\n",
    "#                              max_iter=1e4\n",
    "                            ) \n",
    "sgd_elnet_reg.fit(X_train, y_train.to_numpy().ravel())\n",
    "# Show the model's scores on training and validation sets.\n",
    "print(\"training score:\", sgd_elnet_reg.score(X_train, y_train)) \n",
    "print(\"validation score:\", sgd_elnet_reg.score(X_valid, y_valid))\n",
    "\n",
    "# hyperparameter 확인\n",
    "print(sgd_elnet_reg.penalty, sgd_elnet_reg.alpha, sgd_elnet_reg.l1_ratio)"
   ]
  },
  {
   "cell_type": "code",
   "execution_count": null,
   "id": "e2bf9c87",
   "metadata": {},
   "outputs": [],
   "source": [
    "# R-Squared on Test-Set\n",
    "print(\"Regression Model's Test Score\")\n",
    "print(\"Linear         :\", lin_reg.score(X_test, y_test))\n",
    "print(\"Ridge          :\", ridge_reg.score(X_test, y_test))\n",
    "print(\"Lasso          :\", lasso_reg.score(X_test, y_test))\n",
    "print(\"Elastic Net    :\", elnet_reg.score(X_test, y_test))\n",
    "print(\"SGD Plain      :\", sgd_plain_reg.score(X_test, y_test))\n",
    "print(\"SGD Ridge      :\", sgd_ridge_reg.score(X_test, y_test))\n",
    "print(\"SGD Lasso      :\", sgd_lasso_reg.score(X_test, y_test))\n",
    "print(\"SGD Elastic Net:\", sgd_elnet_reg.score(X_test, y_test))"
   ]
  },
  {
   "cell_type": "code",
   "execution_count": null,
   "id": "0570c40a",
   "metadata": {},
   "outputs": [],
   "source": [
    "# (Grid) cross-validation 을 이용한 Fine tuning \n",
    "# left_index and right_index=True should be included \n",
    "# cross validation 은 여러 셋으로 validation 함으로 test 셋을 나눌 필요 없음\n",
    "if len(pd.merge(X_train, X_valid, left_index=True, right_index=True)) == 0:\n",
    "    X_train, y_train = pd.concat([X_train, X_valid]), pd.concat([y_train, y_valid])"
   ]
  },
  {
   "cell_type": "code",
   "execution_count": null,
   "id": "8cc87421",
   "metadata": {},
   "outputs": [],
   "source": [
    "from sklearn.model_selection import GridSearchCV\n",
    "# GridSearchCV?"
   ]
  },
  {
   "cell_type": "code",
   "execution_count": null,
   "id": "95c99737",
   "metadata": {},
   "outputs": [],
   "source": [
    "# Ridge 모델 Fine tuning with grid search  cross validation \n",
    "from sklearn.linear_model import Ridge\n",
    "ridge_reg = Ridge(random_state=42)\n",
    "\n",
    "params = {'alpha': [1e-2, 1e-1, 1e0, 1e1, 1e2]}\n",
    "ridge_grid_cv = GridSearchCV(estimator=ridge_reg, \n",
    "                             param_grid=params, \n",
    "                             return_train_score=True,\n",
    "                             n_jobs=-1,\n",
    "                            )\n",
    "ridge_grid_cv.fit(X_train, y_train.to_numpy().ravel())\n",
    "print(ridge_grid_cv.best_score_)\n",
    "print(ridge_grid_cv.best_params_)\n",
    "ridge_reg = ridge_grid_cv.best_estimator_"
   ]
  },
  {
   "cell_type": "code",
   "execution_count": null,
   "id": "7fdae979",
   "metadata": {},
   "outputs": [],
   "source": [
    "ridge_grid_cv_results = pd.DataFrame(ridge_grid_cv.cv_results_)\n",
    "# 결과를 파일로 저장하고 싶으면 활성화\n",
    "# ridge_grid_cv_results.to_csv(\"ridge_grid_cv_results.csv\")\n",
    "ridge_grid_cv_results"
   ]
  },
  {
   "cell_type": "code",
   "execution_count": null,
   "id": "8173e216",
   "metadata": {},
   "outputs": [],
   "source": [
    "# np.linspace?\n",
    "# Grid search 항목인 alpha에 linspace 이용\n",
    "from sklearn.linear_model import Ridge\n",
    "ridge_reg = Ridge(random_state=42)\n",
    "\n",
    "params = {'alpha': np.linspace(1e0, 1e2, 100)} # log 함수랑 달리 동일한 간격으로 100개 추출\n",
    "ridge_grid_cv = GridSearchCV(estimator=ridge_reg, \n",
    "                             param_grid=params, \n",
    "                             return_train_score=True,\n",
    "                             n_jobs=-1,\n",
    "                            ) \n",
    "ridge_grid_cv.fit(X_train, y_train.to_numpy().ravel())\n",
    "print(\"Best Score:\", ridge_grid_cv.best_score_)\n",
    "print(\"Best Parameters:\", ridge_grid_cv.best_params_)\n",
    "ridge_reg = ridge_grid_cv.best_estimator_"
   ]
  },
  {
   "cell_type": "code",
   "execution_count": null,
   "id": "141c248f",
   "metadata": {},
   "outputs": [],
   "source": [
    "# Lasso 모델 Gridsearch로 fine tuning\n",
    "from sklearn.linear_model import Lasso\n",
    "lasso_reg = Lasso(random_state=42,\n",
    "                  max_iter=1e7,\n",
    "                 )\n",
    "\n",
    "# params = {'alpha': [1e-2, 1e-1, 1e0, 1e1, 1e2]}\n",
    "params = {'alpha': [1e1, 1e2, 1e3]}\n",
    "lasso_grid_cv = GridSearchCV(estimator=lasso_reg, \n",
    "                             param_grid=params, \n",
    "                             return_train_score=True,\n",
    "                             n_jobs=-1,\n",
    "                            )\n",
    "lasso_grid_cv.fit(X_train, y_train.to_numpy().ravel())\n",
    "print(\"Best Score:\", lasso_grid_cv.best_score_)\n",
    "print(\"Best Parameters:\", lasso_grid_cv.best_params_)\n",
    "lasso_reg = lasso_grid_cv.best_estimator_"
   ]
  },
  {
   "cell_type": "code",
   "execution_count": null,
   "id": "99df6f52",
   "metadata": {},
   "outputs": [],
   "source": [
    "#위에서 찾은 값을 기준으로 더 세분화 하여 alpha값의 range설정 \n",
    "from sklearn.linear_model import Lasso\n",
    "lasso_reg = Lasso(random_state=42,\n",
    "                  max_iter=1e7,\n",
    "                 )\n",
    "\n",
    "# params = {'alpha': [1e-2, 1e-1, 1e0, 1e1, 1e2]}\n",
    "params = {'alpha': np.linspace(1e1, 1e3, 100)}\n",
    "lasso_grid_cv = GridSearchCV(estimator=lasso_reg, \n",
    "                             param_grid=params, \n",
    "                             return_train_score=True,\n",
    "                             n_jobs=-1,\n",
    "                            )\n",
    "lasso_grid_cv.fit(X_train, y_train.to_numpy().ravel())\n",
    "print(\"Best Score:\", lasso_grid_cv.best_score_)\n",
    "print(\"Best Parameters:\", lasso_grid_cv.best_params_)\n",
    "lasso_reg = lasso_grid_cv.best_estimator_"
   ]
  },
  {
   "cell_type": "code",
   "execution_count": null,
   "id": "c31ba0f2",
   "metadata": {},
   "outputs": [],
   "source": [
    "# ElasticNet 모델 Gridsearch로 fine tuning\n",
    "from sklearn.linear_model import ElasticNet\n",
    "elnet_reg = ElasticNet(random_state=42,\n",
    "                       max_iter=1e4,\n",
    "                      )\n",
    "# params = {'alpha': [1e-2, 1e-1, 1e0, 1e1, 1e2],\n",
    "#           'l1_ratio': [.1, .2, .3, .4, .5, .6, .7, .8, .9],\n",
    "#          }\n",
    "params = {'alpha': [1e-3, 1e-2, 1e-1],\n",
    "          'l1_ratio': [.1, .2, .3, .4, .5, .6, .7, .8, .9],\n",
    "         }\n",
    "elnet_grid_cv = GridSearchCV(estimator=elnet_reg, \n",
    "                             param_grid=params, \n",
    "                             return_train_score=True,\n",
    "                             n_jobs=-1,\n",
    "                            )\n",
    "elnet_grid_cv.fit(X_train, y_train.to_numpy().ravel())\n",
    "print(\"Best Score:\", elnet_grid_cv.best_score_)\n",
    "print(\"Best Parameters:\", elnet_grid_cv.best_params_)\n",
    "elnet_reg = elnet_grid_cv.best_estimator_"
   ]
  },
  {
   "cell_type": "code",
   "execution_count": null,
   "id": "f83cfb46",
   "metadata": {},
   "outputs": [],
   "source": [
    "#위에서 찾은 값을 기준으로 더 세분화 하여 alpha값의 range설정\n",
    "from sklearn.linear_model import ElasticNet\n",
    "elnet_reg = ElasticNet(random_state=42,\n",
    "                       max_iter=1e4,\n",
    "                      )\n",
    "params = {'alpha': np.linspace(1e-3, 1e-1, 100),\n",
    "          'l1_ratio': np.linspace(.7, .9, 10),\n",
    "         }\n",
    "elnet_grid_cv = GridSearchCV(estimator=elnet_reg, \n",
    "                             param_grid=params, \n",
    "                             return_train_score=True,\n",
    "                             n_jobs=-1,\n",
    "                            )\n",
    "elnet_grid_cv.fit(X_train, y_train.to_numpy().ravel())\n",
    "print(\"Best Score:\", elnet_grid_cv.best_score_)\n",
    "print(\"Best Parameters:\", elnet_grid_cv.best_params_)\n",
    "elnet_reg = elnet_grid_cv.best_estimator_"
   ]
  },
  {
   "cell_type": "code",
   "execution_count": null,
   "id": "bf7ac36e",
   "metadata": {},
   "outputs": [],
   "source": [
    "# SGD 모델 fine tuning\n",
    "from sklearn.linear_model import SGDRegressor\n",
    "sgd_plain_reg = SGDRegressor(random_state=42,\n",
    "                             verbose=0,\n",
    "                             penalty=None,\n",
    "                             eta0=1e-4,\n",
    "                             max_iter=1e4,\n",
    "                            )\n",
    "params = {}\n",
    "sgd_plain_grid_cv = GridSearchCV(estimator=sgd_plain_reg,\n",
    "                                 param_grid=params,\n",
    "                                 return_train_score=True,\n",
    "                                 n_jobs=-1,\n",
    "                                )\n",
    "sgd_plain_grid_cv.fit(X_train, y_train.to_numpy().ravel()) # Write your code here\n",
    "print(\"Best Score:\", sgd_plain_grid_cv.best_score_)\n",
    "print(\"Best Parameters:\", sgd_plain_grid_cv.best_params_)\n",
    "sgd_plain_reg = sgd_plain_grid_cv.best_estimator_"
   ]
  },
  {
   "cell_type": "code",
   "execution_count": null,
   "id": "6c7cea21",
   "metadata": {},
   "outputs": [],
   "source": [
    "# SGD Ridge 모델 fine tuning\n",
    "sgd_ridge_reg = SGDRegressor(random_state=42,\n",
    "                             verbose=0,\n",
    "                             penalty='l2',\n",
    "                             eta0=1e-4,\n",
    "                             max_iter=1e4,\n",
    "                            )\n",
    "# params = {'alpha':[1e-2, 1e-1, 1e0, 1e1, 1e2]}\n",
    "params = {'alpha':[1e-4, 1e-3, 1e-2, 1e-1]}\n",
    "sgd_ridge_grid_cv = GridSearchCV(estimator=sgd_ridge_reg,\n",
    "                                 param_grid=params,\n",
    "                                 return_train_score=True,\n",
    "                                 n_jobs=-1,\n",
    "                                )\n",
    "sgd_ridge_grid_cv.fit(X_train, y_train.to_numpy().ravel())\n",
    "print(\"Best Score:\", sgd_ridge_grid_cv.best_score_)\n",
    "print(\"Best Parameters:\", sgd_ridge_grid_cv.best_params_)\n",
    "sgd_ridge_reg = sgd_ridge_grid_cv.best_estimator_"
   ]
  },
  {
   "cell_type": "code",
   "execution_count": null,
   "id": "5a781974",
   "metadata": {},
   "outputs": [],
   "source": [
    "#위에서 찾은 값을 기준으로 더 세분화 하여 alpha값의 range설정\n",
    "sgd_ridge_reg = SGDRegressor(random_state=42,\n",
    "                             verbose=0,\n",
    "                             penalty='l2',\n",
    "                             eta0=1e-4,\n",
    "                             max_iter=1e4,\n",
    "                            ) # Write your code here\n",
    "params = {'alpha':np.linspace(1e-4, 1e-2, 100)}\n",
    "sgd_ridge_grid_cv = GridSearchCV(estimator=sgd_ridge_reg,\n",
    "                                 param_grid=params,\n",
    "                                 return_train_score=True,\n",
    "                                 n_jobs=-1,\n",
    "                                )\n",
    "sgd_ridge_grid_cv.fit(X_train, y_train.to_numpy().ravel()) # Write your code here\n",
    "print(\"Best Score:\", sgd_ridge_grid_cv.best_score_)\n",
    "print(\"Best Parameters:\", sgd_ridge_grid_cv.best_params_)\n",
    "sgd_ridge_reg = sgd_ridge_grid_cv.best_estimator_"
   ]
  },
  {
   "cell_type": "code",
   "execution_count": null,
   "id": "13054a36",
   "metadata": {},
   "outputs": [],
   "source": [
    "# SGD Lasso 모델 fine tuning\n",
    "from sklearn.linear_model import SGDRegressor\n",
    "sgd_lasso_reg = SGDRegressor(random_state=42,\n",
    "                             verbose=0,\n",
    "                             penalty='l1',\n",
    "                             eta0=1e-4,\n",
    "                             max_iter=1e4\n",
    "                            ) # Write your code here\n",
    "params = {'alpha':[1e-2, 1e-1, 1e0, 1e1, 1e2]}\n",
    "sgd_lasso_grid_cv = GridSearchCV(estimator=sgd_lasso_reg,\n",
    "                                 param_grid=params,\n",
    "                                 return_train_score=True,\n",
    "                                 n_jobs=-1,\n",
    "                                )\n",
    "sgd_lasso_grid_cv.fit(X_train, y_train.to_numpy().ravel())\n",
    "print(\"Best Score:\", sgd_lasso_grid_cv.best_score_)\n",
    "print(\"Best Parameters:\", sgd_lasso_grid_cv.best_params_)\n",
    "sgd_lasso_reg = sgd_lasso_grid_cv.best_estimator_"
   ]
  },
  {
   "cell_type": "code",
   "execution_count": null,
   "id": "90366e39",
   "metadata": {},
   "outputs": [],
   "source": [
    "#위에서 찾은 값을 기준으로 더 세분화 하여 alpha값의 range설정\n",
    "\n",
    "from sklearn.linear_model import SGDRegressor\n",
    "sgd_lasso_reg = SGDRegressor(random_state=42,\n",
    "                             verbose=0,\n",
    "                             penalty='l1',\n",
    "                             eta0=1e-4,\n",
    "                             max_iter=1e4\n",
    "                            ) # Write your code here\n",
    "params = {'alpha': np.linspace(1e0, 1e2, 100)}\n",
    "sgd_lasso_grid_cv = GridSearchCV(estimator=sgd_lasso_reg,\n",
    "                                 param_grid=params,\n",
    "                                 return_train_score=True,\n",
    "                                 n_jobs=-1,\n",
    "                                )\n",
    "sgd_lasso_grid_cv.fit(X_train, y_train.to_numpy().ravel())\n",
    "print(\"Best Score:\", sgd_lasso_grid_cv.best_score_)\n",
    "print(\"Best Parameters:\", sgd_lasso_grid_cv.best_params_)\n",
    "sgd_lasso_reg = sgd_lasso_grid_cv.best_estimator_"
   ]
  },
  {
   "cell_type": "code",
   "execution_count": null,
   "id": "acd32ce7",
   "metadata": {},
   "outputs": [],
   "source": [
    "# SGD elasticnet 모델 fine tuning\n",
    "# l1_ratio에 0.0, 1.0을 포함하면 Ridge, Lasso를 굳이 안돌려도 됨. \n",
    "# 근데 시험에서는 그래도 되는지 모르겠음. \n",
    "from sklearn.linear_model import SGDRegressor\n",
    "sgd_elnet_reg = SGDRegressor(random_state=42,\n",
    "                             verbose=0,\n",
    "                             penalty='elasticnet',\n",
    "                             eta0=1e-4,\n",
    "                             max_iter=1e4,\n",
    "                            ) # Write your code here\n",
    "params = {'alpha': [1e-2, 1e-1, 1e0, 1e1, 1e2],\n",
    "          'l1_ratio': [.1, .2, .3, .4, .5, .6, .7, .8, .9],\n",
    "         }\n",
    "sgd_elnet_grid_cv = GridSearchCV(estimator=sgd_elnet_reg,\n",
    "                                 param_grid=params,\n",
    "                                 return_train_score=True,\n",
    "                                 n_jobs=-1,\n",
    "                                )\n",
    "sgd_elnet_grid_cv.fit(X_train, y_train.to_numpy().ravel())\n",
    "print(\"Best Score:\", sgd_elnet_grid_cv.best_score_)\n",
    "print(\"Best Parameters:\", sgd_elnet_grid_cv.best_params_)\n",
    "sgd_elnet_reg = sgd_elnet_grid_cv.best_estimator_"
   ]
  },
  {
   "cell_type": "code",
   "execution_count": null,
   "id": "3fcd6c1f",
   "metadata": {},
   "outputs": [],
   "source": [
    "#위에서 찾은 값을 기준으로 더 세분화 하여 alpha, L1_ratio값의 range설정\n",
    "\n",
    "from sklearn.linear_model import SGDRegressor\n",
    "sgd_elnet_reg = SGDRegressor(random_state=42,\n",
    "                             verbose=0,\n",
    "                             penalty='elasticnet',\n",
    "                             eta0=1e-4,\n",
    "                             max_iter=1e4,\n",
    "                            ) # Write your code here\n",
    "params = {'alpha': np.linspace(1e-3, 1e-1, 10),\n",
    "          'l1_ratio': np.linspace(.7, .9, 10),\n",
    "         }\n",
    "sgd_elnet_grid_cv = GridSearchCV(estimator=sgd_elnet_reg,\n",
    "                                 param_grid=params,\n",
    "                                 return_train_score=True,\n",
    "                                 n_jobs=-1,\n",
    "                                )\n",
    "sgd_elnet_grid_cv.fit(X_train, y_train.to_numpy().ravel())\n",
    "print(\"Best Score:\", sgd_elnet_grid_cv.best_score_)\n",
    "print(\"Best Parameters:\", sgd_elnet_grid_cv.best_params_)\n",
    "sgd_elnet_reg = sgd_elnet_grid_cv.best_estimator_"
   ]
  },
  {
   "cell_type": "code",
   "execution_count": null,
   "id": "e0f4ea30",
   "metadata": {},
   "outputs": [],
   "source": [
    "# R-Squared on Test-Set\n",
    "print(\"Regression Model's Test Score\")\n",
    "print(\"Linear         :\", lin_reg.score(X_test, y_test))\n",
    "print(\"Ridge          :\", ridge_reg.score(X_test, y_test))\n",
    "print(\"Lasso          :\", lasso_reg.score(X_test, y_test))\n",
    "print(\"Elastic Net    :\", elnet_reg.score(X_test, y_test))\n",
    "print(\"SGD Ridge      :\", sgd_ridge_reg.score(X_test, y_test))\n",
    "print(\"SGD Lasso      :\", sgd_lasso_reg.score(X_test, y_test))\n",
    "print(\"SGD Elastic Net:\", sgd_elnet_reg.score(X_test, y_test))"
   ]
  },
  {
   "cell_type": "code",
   "execution_count": null,
   "id": "4dc8f278",
   "metadata": {},
   "outputs": [],
   "source": [
    "# Ridge 모델 Fine tuning with randomized search cross validation \n",
    "from sklearn.model_selection import RandomizedSearchCV\n",
    "# RandomizedSearchCV?\n",
    "from scipy.stats import uniform, randint\n",
    "# uniform\n",
    "# https://rfriend.tistory.com/284\n",
    "# 균등분포 무작위 샘플 추출"
   ]
  },
  {
   "cell_type": "code",
   "execution_count": null,
   "id": "55215980",
   "metadata": {},
   "outputs": [],
   "source": [
    "# Cross Validation 초반에 train 데이터 합치는 부분 안했으면 아래 부분 활성화해서 다시 수행\n",
    "# if len(pd.merge(X_train, X_valid)) == 0:\n",
    "#     X_train, y_train = pd.concat([X_train, X_valid]), pd.concat([y_train, y_valid])"
   ]
  },
  {
   "cell_type": "code",
   "execution_count": null,
   "id": "f7d47db3",
   "metadata": {},
   "outputs": [],
   "source": [
    "# Fine-Tune Ridge Models with randomized search cross validation \n",
    "from sklearn.linear_model import Ridge\n",
    "ridge_reg = Ridge(random_state=42)\n",
    "\n",
    "# params = {'alpha': [1e-2, 1e-1, 1e0, 1e1, 1e2]}\n",
    "params = {'alpha': uniform(1e-2, 1e2)}\n",
    "ridge_rand_cv = RandomizedSearchCV(random_state=42, \n",
    "                                   estimator=ridge_reg, \n",
    "                                   param_distributions=params, \n",
    "                                   n_iter=10,\n",
    "                                   return_train_score=True,\n",
    "                                   n_jobs=-1,\n",
    "                                  ) # Write your code here.\n",
    "ridge_rand_cv.fit(X_train, y_train.to_numpy().ravel())\n",
    "print(ridge_rand_cv.best_score_)\n",
    "print(ridge_rand_cv.best_params_)\n",
    "ridge_reg = ridge_rand_cv.best_estimator_"
   ]
  },
  {
   "cell_type": "code",
   "execution_count": null,
   "id": "f63b610f",
   "metadata": {},
   "outputs": [],
   "source": [
    "#위에서 찾은 값을 기준으로 더 세분화 하여 alpha값의 range설정\n",
    "from sklearn.linear_model import Ridge\n",
    "ridge_reg = Ridge(random_state=42)\n",
    "\n",
    "# params = {'alpha': [1e-2, 1e-1, 1e0, 1e1, 1e2]}\n",
    "params = {'alpha': uniform(1e0, 1e2)}\n",
    "ridge_rand_cv = RandomizedSearchCV(random_state=42, \n",
    "                                   estimator=ridge_reg, \n",
    "                                   param_distributions=params, \n",
    "                                   n_iter=100,\n",
    "                                   return_train_score=True,\n",
    "                                   n_jobs=-1,\n",
    "                                  ) # Write your code here.\n",
    "ridge_rand_cv.fit(X_train, y_train.to_numpy().ravel())\n",
    "print(ridge_rand_cv.best_score_)\n",
    "print(ridge_rand_cv.best_params_)\n",
    "ridge_reg = ridge_rand_cv.best_estimator_"
   ]
  },
  {
   "cell_type": "code",
   "execution_count": null,
   "id": "b37c18a6",
   "metadata": {},
   "outputs": [],
   "source": [
    "# Fine-Tune Lasso Models with randomized search cross validation \n",
    "from sklearn.linear_model import Lasso\n",
    "lasso_reg = Lasso(random_state=42,\n",
    "                  max_iter=1e7,\n",
    "                 ) # Write your code here.\n",
    "\n",
    "# params = {'alpha': uniform(1e-2, 1e2)}\n",
    "params = {'alpha': uniform(1e1, 1e3)}\n",
    "lasso_rand_cv = RandomizedSearchCV(random_state=42, \n",
    "                                   estimator=lasso_reg, \n",
    "                                   param_distributions=params, \n",
    "                                   return_train_score=True,\n",
    "                                   n_iter=10,\n",
    "                                   n_jobs=-1,\n",
    "                                  )\n",
    "lasso_rand_cv.fit(X_train, y_train.to_numpy().ravel())\n",
    "print(lasso_rand_cv.best_score_)\n",
    "print(lasso_rand_cv.best_params_)\n",
    "lasso_reg = lasso_rand_cv.best_estimator_"
   ]
  },
  {
   "cell_type": "code",
   "execution_count": null,
   "id": "feaf74f3",
   "metadata": {},
   "outputs": [],
   "source": [
    "#위에서 찾은 값을 기준으로 더 세분화 하여 alpha값의 range설정\n",
    "from sklearn.linear_model import Lasso\n",
    "lasso_reg = Lasso(random_state=42,\n",
    "                  max_iter=1e7,\n",
    "                 ) # Write your code here.\n",
    "\n",
    "params = {'alpha': uniform(1e1, 1e2)}\n",
    "lasso_rand_cv = RandomizedSearchCV(random_state=42, \n",
    "                                   estimator=lasso_reg, \n",
    "                                   param_distributions=params, \n",
    "                                   return_train_score=True,\n",
    "                                   n_iter=100,\n",
    "                                   n_jobs=-1,\n",
    "                                  )\n",
    "lasso_rand_cv.fit(X_train, y_train.to_numpy().ravel())\n",
    "print(lasso_rand_cv.best_score_)\n",
    "print(lasso_rand_cv.best_params_)\n",
    "lasso_reg = lasso_rand_cv.best_estimator_"
   ]
  },
  {
   "cell_type": "code",
   "execution_count": null,
   "id": "116f06c6",
   "metadata": {},
   "outputs": [],
   "source": [
    "# Fine-Tune ElasticNet Models with randomized search cross validation \n",
    "from sklearn.linear_model import ElasticNet\n",
    "elnet_reg = ElasticNet(random_state=42,\n",
    "                       max_iter=1e4,\n",
    "                      ) # Write your code here.\n",
    "params = {'alpha': uniform(1e-2, 1e2),\n",
    "          'l1_ratio': uniform(0, 1),\n",
    "         }\n",
    "elnet_rand_cv = RandomizedSearchCV(random_state=42, \n",
    "                                   estimator=elnet_reg, \n",
    "                                   param_distributions=params, \n",
    "                                   return_train_score=True, \n",
    "                                   n_iter=10,\n",
    "                                   n_jobs=-1,\n",
    "                                  ) # Write your code here.\n",
    "elnet_rand_cv.fit(X_train, y_train.to_numpy().ravel())\n",
    "print(elnet_rand_cv.best_score_)\n",
    "print(elnet_rand_cv.best_params_)\n",
    "elnet_reg = elnet_rand_cv.best_estimator_"
   ]
  },
  {
   "cell_type": "code",
   "execution_count": null,
   "id": "2c808d3b",
   "metadata": {},
   "outputs": [],
   "source": [
    "#위에서 찾은 값을 기준으로 더 세분화 하여 alpha, l1_ratio값의 range설정\n",
    "from sklearn.linear_model import ElasticNet\n",
    "elnet_reg = ElasticNet(random_state=42,\n",
    "                       max_iter=1e4,\n",
    "                      ) # Write your code here.\n",
    "params = {'alpha': uniform(1e-1, 1e1),\n",
    "          'l1_ratio': uniform(0.0, 1.0),\n",
    "         }\n",
    "elnet_rand_cv = RandomizedSearchCV(random_state=42, \n",
    "                                   estimator=elnet_reg, \n",
    "                                   param_distributions=params, \n",
    "                                   return_train_score=True, \n",
    "                                   n_iter=100,\n",
    "                                   n_jobs=-1,\n",
    "                                  ) # Write your code here.\n",
    "elnet_rand_cv.fit(X_train, y_train.to_numpy().ravel())\n",
    "print(elnet_rand_cv.best_score_)\n",
    "print(elnet_rand_cv.best_params_)\n",
    "elnet_reg = elnet_rand_cv.best_estimator_"
   ]
  },
  {
   "cell_type": "code",
   "execution_count": null,
   "id": "e9352630",
   "metadata": {},
   "outputs": [],
   "source": [
    "# Fine-Tune SGD Plain Models with randomized search cross validation\n",
    "from sklearn.linear_model import SGDRegressor\n",
    "sgd_plain_reg = SGDRegressor(random_state=42,\n",
    "                             verbose=0,\n",
    "                             penalty=None,\n",
    "                             eta0=1e-4,\n",
    "                             max_iter=1e4,\n",
    "                            ) # Write your code here\n",
    "params = {}\n",
    "sgd_plain_rand_cv = RandomizedSearchCV(random_state=42, \n",
    "                                       estimator=sgd_plain_reg,\n",
    "                                       param_distributions=params,\n",
    "                                       return_train_score=True,\n",
    "                                       n_jobs=-1,\n",
    "                                       n_iter=10,\n",
    "                                      )\n",
    "sgd_plain_rand_cv.fit(X_train, y_train.to_numpy().ravel()) # Write your code here\n",
    "print(\"Best Score:\", sgd_plain_rand_cv.best_score_)\n",
    "print(\"Best Parameters:\", sgd_plain_rand_cv.best_params_)\n",
    "sgd_plain_reg = sgd_plain_rand_cv.best_estimator_\n"
   ]
  },
  {
   "cell_type": "code",
   "execution_count": null,
   "id": "b21ca874",
   "metadata": {},
   "outputs": [],
   "source": [
    "\n",
    "print(pd.DataFrame(sgd_plain_rand_cv.cv_results_))"
   ]
  },
  {
   "cell_type": "code",
   "execution_count": null,
   "id": "546871d3",
   "metadata": {},
   "outputs": [],
   "source": [
    "# Fine-Tune SGD Ridge Models with randomized search cross validation\n",
    "sgd_ridge_reg = SGDRegressor(random_state=42,\n",
    "                             verbose=0,\n",
    "                             penalty='l2',\n",
    "                            ) # Write your code here\n",
    "params = {'alpha': uniform(1e-2, 1e2)}\n",
    "# params = {'alpha': uniform(1e-3, 1e3)}\n",
    "# params = {'alpha': uniform(1e-4, 1e4)}\n",
    "sgd_ridge_rand_cv = RandomizedSearchCV(random_state=42, \n",
    "                                       estimator=sgd_ridge_reg,\n",
    "                                       param_distributions=params,\n",
    "                                       return_train_score=True,\n",
    "                                       n_jobs=-1,\n",
    "                                       n_iter=10,\n",
    "#                                        n_iter=100,\n",
    "#                                        n_iter=1000,\n",
    "#                                        n_iter=10000,\n",
    "                                      )\n",
    "sgd_ridge_rand_cv.fit(X_train, y_train.to_numpy().ravel())\n",
    "print(\"Best Score:\", sgd_ridge_rand_cv.best_score_)\n",
    "print(\"Best Parameters:\", sgd_ridge_rand_cv.best_params_)\n",
    "sgd_ridge_reg = sgd_ridge_rand_cv.best_estimator_"
   ]
  },
  {
   "cell_type": "code",
   "execution_count": null,
   "id": "9b09f84e",
   "metadata": {},
   "outputs": [],
   "source": [
    "#다른 방식으로도 찾아보기\n",
    "from sklearn.linear_model import SGDRegressor\n",
    "sgd_ridge_reg = SGDRegressor(random_state=42,\n",
    "                             verbose=0,\n",
    "                             penalty='l2',\n",
    "                             eta0=1e-4,\n",
    "                             max_iter=1e4,\n",
    "                            ) # Write your code here\n",
    "# params = {'alpha': [1e-2, 1e-1, 1e0, 1e1, 1e2]}\n",
    "params = {'alpha': [1e-4, 1e-3, 1e-2, 1e-1]}\n",
    "sgd_ridge_rand_cv = RandomizedSearchCV(random_state=42, \n",
    "                                       estimator=sgd_ridge_reg,\n",
    "                                       param_distributions=params,\n",
    "                                       return_train_score=True,\n",
    "                                       n_jobs=-1,\n",
    "                                       n_iter=10\n",
    "                                      )\n",
    "sgd_ridge_rand_cv.fit(X_train, y_train.to_numpy().ravel())\n",
    "print(\"Best Score:\", sgd_ridge_rand_cv.best_score_)\n",
    "print(\"Best Parameters:\", sgd_ridge_rand_cv.best_params_)\n",
    "sgd_ridge_reg = sgd_ridge_rand_cv.best_estimator_"
   ]
  },
  {
   "cell_type": "code",
   "execution_count": null,
   "id": "54dd703f",
   "metadata": {},
   "outputs": [],
   "source": [
    "#위에서 찾은 값을 기준으로 더 세분화 하여 alpha, l1_ratio값의 range설정\n",
    "from sklearn.linear_model import SGDRegressor\n",
    "sgd_ridge_reg = SGDRegressor(random_state=42,\n",
    "                             verbose=0,\n",
    "                             penalty='l2',\n",
    "                             eta0=1e-4,\n",
    "                             max_iter=1e4,\n",
    "                            ) # Write your code here\n",
    "params = {'alpha': uniform(1e-3, 1e-1)}\n",
    "sgd_ridge_rand_cv = RandomizedSearchCV(random_state=42, \n",
    "                                       estimator=sgd_ridge_reg,\n",
    "                                       param_distributions=params,\n",
    "                                       return_train_score=True,\n",
    "                                       n_jobs=-1,\n",
    "                                       n_iter=100\n",
    "                                      )\n",
    "sgd_ridge_rand_cv.fit(X_train, y_train.to_numpy().ravel())\n",
    "print(\"Best Score:\", sgd_ridge_rand_cv.best_score_)\n",
    "print(\"Best Parameters:\", sgd_ridge_rand_cv.best_params_)\n",
    "sgd_ridge_reg = sgd_ridge_rand_cv.best_estimator_"
   ]
  },
  {
   "cell_type": "code",
   "execution_count": null,
   "id": "4188acf8",
   "metadata": {},
   "outputs": [],
   "source": [
    "# Fine-Tune SGD Lasso Models with randomized search cross validation\n",
    "from sklearn.linear_model import SGDRegressor\n",
    "sgd_lasso_reg = SGDRegressor(random_state=42,\n",
    "                             verbose=0,\n",
    "                             penalty='l1',\n",
    "                             eta0=1e-4,\n",
    "                             max_iter=1e4\n",
    "                            ) # Write your code here\n",
    "params = {'alpha':[1e-2, 1e-1, 1e0, 1e1, 1e2]}\n",
    "sgd_lasso_rand_cv = RandomizedSearchCV(random_state=42, \n",
    "                                       estimator=sgd_lasso_reg,\n",
    "                                       param_distributions=params,\n",
    "                                       return_train_score=True,\n",
    "                                       n_jobs=-1,\n",
    "                                       n_iter=10,\n",
    "                                      )\n",
    "sgd_lasso_rand_cv.fit(X_train, y_train.to_numpy().ravel())\n",
    "print(\"Best Score:\", sgd_lasso_rand_cv.best_score_)\n",
    "print(\"Best Parameters:\", sgd_lasso_rand_cv.best_params_)\n",
    "sgd_lasso_reg = sgd_lasso_rand_cv.best_estimator_"
   ]
  },
  {
   "cell_type": "code",
   "execution_count": null,
   "id": "7103b6f8",
   "metadata": {},
   "outputs": [],
   "source": [
    "#위에서 찾은 값을 기준으로 더 세분화 하여 alpha, l1_ratio값의 range설정\n",
    "from sklearn.linear_model import SGDRegressor\n",
    "sgd_lasso_reg = SGDRegressor(random_state=42,\n",
    "                             verbose=0,\n",
    "                             penalty='l1',\n",
    "                             eta0=1e-4,\n",
    "                             max_iter=1e4\n",
    "                            ) # Write your code here\n",
    "params = {'alpha': uniform(1e0, 1e2)}\n",
    "sgd_lasso_rand_cv = RandomizedSearchCV(random_state=42, \n",
    "                                       estimator=sgd_lasso_reg,\n",
    "                                       param_distributions=params,\n",
    "                                       return_train_score=True,\n",
    "                                       n_jobs=-1,\n",
    "                                       n_iter=100,\n",
    "                                      )\n",
    "sgd_lasso_rand_cv.fit(X_train, y_train.to_numpy().ravel()) # Write your code here\n",
    "print(\"Best Score:\", sgd_lasso_rand_cv.best_score_)\n",
    "print(\"Best Parameters:\", sgd_lasso_rand_cv.best_params_)\n",
    "sgd_lasso_reg = sgd_lasso_rand_cv.best_estimator_"
   ]
  },
  {
   "cell_type": "code",
   "execution_count": null,
   "id": "2e0838c7",
   "metadata": {},
   "outputs": [],
   "source": [
    "# Fine-Tune SGD Elnet Models with randomized search cross validation\n",
    "from sklearn.linear_model import SGDRegressor\n",
    "sgd_elnet_reg = SGDRegressor(random_state=42,\n",
    "                             verbose=0,\n",
    "                             penalty='elasticnet',\n",
    "                             eta0=1e-4,\n",
    "                             max_iter=1e4,\n",
    "                            ) # Write your code here\n",
    "params = {'alpha':[1e-2, 1e-1, 1e0, 1e1, 1e2]}\n",
    "sgd_elnet_rand_cv = RandomizedSearchCV(random_state=42,\n",
    "                                       estimator=sgd_elnet_reg,\n",
    "                                       param_distributions=params,\n",
    "                                       return_train_score=True,\n",
    "                                       n_jobs=-1,\n",
    "                                       n_iter=10,\n",
    "                                      )\n",
    "sgd_elnet_rand_cv.fit(X_train, y_train.to_numpy().ravel()) # Write your code here\n",
    "print(\"Best Score:\", sgd_elnet_rand_cv.best_score_)\n",
    "print(\"Best Parameters:\", sgd_elnet_rand_cv.best_params_)\n",
    "sgd_elnet_reg = sgd_elnet_rand_cv.best_estimator_"
   ]
  },
  {
   "cell_type": "code",
   "execution_count": null,
   "id": "09dfcc9e",
   "metadata": {},
   "outputs": [],
   "source": [
    "#위에서 찾은 값을 기준으로 더 세분화 하여 alpha, l1_ratio값의 range설정\n",
    "from sklearn.linear_model import SGDRegressor\n",
    "sgd_elnet_reg = SGDRegressor(random_state=42,\n",
    "                             verbose=0,\n",
    "                             penalty='elasticnet',\n",
    "                             eta0=1e-4,\n",
    "                             max_iter=1e4,\n",
    "                            ) # Write your code here\n",
    "params = {'alpha': uniform(1e-4, 1e-2)}\n",
    "sgd_elnet_rand_cv = RandomizedSearchCV(random_state=42,\n",
    "                                       estimator=sgd_elnet_reg,\n",
    "                                       param_distributions=params,\n",
    "                                       return_train_score=True,\n",
    "                                       n_jobs=-1,\n",
    "                                       n_iter=100,\n",
    "                                      )\n",
    "sgd_elnet_rand_cv.fit(X_train, y_train.to_numpy().ravel()) # Write your code here\n",
    "print(\"Best Score:\", sgd_elnet_rand_cv.best_score_)\n",
    "print(\"Best Parameters:\", sgd_elnet_rand_cv.best_params_)\n",
    "sgd_elnet_reg = sgd_elnet_rand_cv.best_estimator_"
   ]
  },
  {
   "cell_type": "code",
   "execution_count": null,
   "id": "4016902f",
   "metadata": {},
   "outputs": [],
   "source": [
    "# R-Squared on Test-Set\n",
    "print(\"Regression Model's Test Score\")\n",
    "print(\"Linear         :\", lin_reg.score(X_test, y_test))\n",
    "print(\"Ridge          :\", ridge_reg.score(X_test, y_test))\n",
    "print(\"Lasso          :\", lasso_reg.score(X_test, y_test))\n",
    "print(\"Elastic Net    :\", elnet_reg.score(X_test, y_test))\n",
    "print(\"SGD Ridge      :\", sgd_ridge_reg.score(X_test, y_test))\n",
    "print(\"SGD Lasso      :\", sgd_lasso_reg.score(X_test, y_test))\n",
    "print(\"SGD Elastic Net:\", sgd_elnet_reg.score(X_test, y_test))"
   ]
  },
  {
   "cell_type": "code",
   "execution_count": null,
   "id": "78447f7a",
   "metadata": {},
   "outputs": [],
   "source": [
    "# Incremental learning\n",
    "# plain 모델을 재학습하여 정확도를 확인\n",
    "import copy\n",
    "sgd_partial_reg = copy.deepcopy(sgd_plain_reg)\n",
    "\n",
    "X_partial_train, X_partial_valid, y_partial_train, y_partial_valid = \\\n",
    "    train_test_split(X_test, y_test, test_size=.2, random_state=42)"
   ]
  },
  {
   "cell_type": "code",
   "execution_count": null,
   "id": "24689075",
   "metadata": {},
   "outputs": [],
   "source": [
    "sgd_partial_reg = copy.deepcopy(sgd_plain_reg)\n",
    "best_sgd_partial_reg = copy.deepcopy(sgd_plain_reg)\n",
    "\n",
    "lst_epoch = range(0, 100000)\n",
    "lst_train_score = []\n",
    "lst_valid_score = []\n",
    "\n",
    "best_valid_score = 0\n",
    "no_improvement_cnt = 0\n",
    "for epoch in lst_epoch:\n",
    "    # Train the model\n",
    "    sgd_partial_reg.partial_fit(X_partial_train, y_partial_train.to_numpy().ravel())\n",
    "    # Store training and validation scores\n",
    "    train_score = sgd_partial_reg.score(X_partial_train, y_partial_train) \n",
    "    valid_score = sgd_partial_reg.score(X_partial_valid, y_partial_valid) \n",
    "    lst_train_score.append(train_score)\n",
    "    lst_valid_score.append(valid_score)\n",
    "    no_improvement_cnt += 1\n",
    "    if valid_score > best_valid_score:\n",
    "        best_valid_score = valid_score\n",
    "        best_epoch = epoch\n",
    "        best_sgd_partial_reg = copy.deepcopy(sgd_partial_reg)\n",
    "        n_not_enhanced = 0\n",
    "#     if no_improvement_cnt > 100:\n",
    "#         break\n",
    "\n",
    "print(\"best epoch:\", best_epoch)\n",
    "print(\"training score:\", sgd_partial_reg.score(X_partial_train, y_partial_train))\n",
    "print(\"validation score:\", sgd_partial_reg.score(X_partial_valid, y_partial_valid))"
   ]
  },
  {
   "cell_type": "code",
   "execution_count": null,
   "id": "ffe967a5",
   "metadata": {},
   "outputs": [],
   "source": [
    "from matplotlib import pyplot as plt\n",
    "plt.figure(figsize=(10, 8))\n",
    "plt.plot(lst_train_score, label=\"training\")\n",
    "plt.plot(lst_valid_score, label=\"validation\")\n",
    "plt.xlabel('epoch')\n",
    "plt.ylabel('R^2')\n",
    "plt.legend(loc=\"lower right\", fontsize=14)\n",
    "# plt.xlim(0,100)\n",
    "plt.ylim(0.5,0.7)\n",
    "plt.show()"
   ]
  },
  {
   "cell_type": "code",
   "execution_count": null,
   "id": "ac2e3d8f",
   "metadata": {},
   "outputs": [],
   "source": [
    "print(\"R^2 before incremental learning:\", sgd_plain_reg.score(X_partial_valid, y_partial_valid)) \n",
    "print(\"R^2 after incremental learning:\", sgd_partial_reg.score(X_partial_valid, y_partial_valid)) "
   ]
  },
  {
   "cell_type": "code",
   "execution_count": null,
   "id": "6787668d",
   "metadata": {},
   "outputs": [],
   "source": [
    "# Linear SVR 모델 학습하기\n",
    "from sklearn.svm import LinearSVR\n",
    "# LinearSVR?\n",
    "# Check the error caused by the code below.\n",
    "lsvr_reg = LinearSVR(random_state=42,\n",
    "                     verbose=0,\n",
    "                    )\n",
    "lsvr_reg.fit(X_train, y_train.to_numpy().ravel())\n",
    "print(\"Linear SVR Model's Accuracy\")\n",
    "print(\"Training Set:\", lsvr_reg.score(X_train, y_train))\n",
    "print(\"Validation Set:\", lsvr_reg.score(X_valid, y_valid))"
   ]
  },
  {
   "cell_type": "code",
   "execution_count": null,
   "id": "79e5ec66",
   "metadata": {},
   "outputs": [],
   "source": [
    "# SVR 모델 학습하기\n",
    "from sklearn.svm import SVR\n",
    "# SVR?\n",
    "# Check the error caused by the code below.\n",
    "svr_reg = SVR(verbose=False)\n",
    "svr_reg.fit(X_train, y_train.to_numpy().ravel())\n",
    "print(\"SVR Model's Accuracy\")\n",
    "print(\"Training Set:\", svr_reg.score(X_train, y_train))\n",
    "print(\"Validation Set:\", svr_reg.score(X_valid, y_valid))"
   ]
  },
  {
   "cell_type": "code",
   "execution_count": null,
   "id": "4847cb0c",
   "metadata": {},
   "outputs": [],
   "source": [
    "# # Train an SGDRegressor model with no penalty (None), random_state of 42, and verbose of 2.\n",
    "# sgd_plain_reg = SGDRegressor(random_state=42,\n",
    "#                              verbose=0,\n",
    "#                              penalty=None,\n",
    "#                              eta0=1e-4,\n",
    "#                              max_iter=1e4,\n",
    "#                             ) # Write your code here\n",
    "# sgd_plain_reg.fit(X_train, y_train.to_numpy().ravel()) # Write your code here\n",
    "# # Show the model's scores on training and validation sets.\n",
    "# print(\"train score:\", sgd_plain_reg.score(X_train, y_train.to_numpy().ravel())) # Write your code here\n",
    "# print(\"validation score:\", sgd_plain_reg.score(X_valid, y_valid.to_numpy().ravel())) # Write your code here"
   ]
  },
  {
   "cell_type": "code",
   "execution_count": null,
   "id": "b24a9b22",
   "metadata": {},
   "outputs": [],
   "source": [
    "# Train an SGDRegressor model with no penalty (None), random_state of 42, and verbose of 2.\n",
    "sgd1_svm_reg = SGDRegressor(random_state=42,\n",
    "                           verbose=0,\n",
    "                           loss='epsilon_insensitive', # loss for SVM\n",
    "                           penalty='l1', # plain model\n",
    "                           max_iter=1e7, # lower iteration causes convergence wanining \n",
    "                           learning_rate='adaptive', # 'invscaling' (default) is too slow\n",
    "                          )\n",
    "sgd1_svm_reg.fit(X_train, y_train.to_numpy().ravel())\n",
    "# Show the model's scores on training and validation sets.\n",
    "print(\"train score:\", sgd1_svm_reg.score(X_train, y_train))\n",
    "print(\"validation score:\", sgd1_svm_reg.score(X_valid, y_valid))"
   ]
  },
  {
   "cell_type": "code",
   "execution_count": null,
   "id": "344f0ab7",
   "metadata": {},
   "outputs": [],
   "source": [
    "# R-Squared on Test-Set\n",
    "print(\"Regression Model's Test Score\")\n",
    "print(\"Linear SVR       :\", lsvr_reg.score(X_test, y_test))\n",
    "print(\"SVR              :\", svr_reg.score(X_test, y_test))\n",
    "print(\"SVM SGD Regressor:\", sgd1_svm_reg.score(X_test, y_test))"
   ]
  },
  {
   "cell_type": "markdown",
   "id": "98694107",
   "metadata": {},
   "source": [
    "## <font color=blue>[9] Neural Network Models"
   ]
  },
  {
   "cell_type": "code",
   "execution_count": null,
   "id": "6696ed5d",
   "metadata": {},
   "outputs": [],
   "source": [
    "import tensorflow as tf\n",
    "import numpy as np\n",
    "from tensorflow import keras\n",
    "\n",
    "np.random.seed(42)\n",
    "tf.random.set_seed(42)"
   ]
  },
  {
   "cell_type": "code",
   "execution_count": null,
   "id": "17570a05",
   "metadata": {},
   "outputs": [],
   "source": [
    "def build_model(n_hidden=1, n_neurons=30, input_shape=[13]):\n",
    "    model = keras.models.Sequential()\n",
    "    model.add(keras.layers.InputLayer(input_shape=input_shape))\n",
    "    for layer in range(n_hidden):\n",
    "        model.add(keras.layers.Dense(n_neurons, activation=\"relu\"))\n",
    "    model.add(keras.layers.Dense(1))\n",
    "    return model"
   ]
  },
  {
   "cell_type": "code",
   "execution_count": null,
   "id": "d4ba4c87",
   "metadata": {},
   "outputs": [],
   "source": [
    "from scikeras.wrappers import KerasClassifier, KerasRegressor\n",
    "from keras.optimizers import SGD, Adam, Adagrad\n",
    "from keras.callbacks import EarlyStopping\n",
    "KerasRegressor?"
   ]
  },
  {
   "cell_type": "code",
   "execution_count": null,
   "id": "61df711b",
   "metadata": {},
   "outputs": [],
   "source": [
    "nn_reg = \\\n",
    "    KerasRegressor(\n",
    "        model=build_model,\n",
    "        random_state=42,\n",
    "        optimizer=SGD,\n",
    "        loss=\"mse\",\n",
    "    )\n",
    "nn_reg.fit(\n",
    "    X_train, y_train, \n",
    "    validation_data=(X_valid, y_valid),\n",
    "    callbacks=[EarlyStopping(patience=10)],\n",
    ")\n",
    "print(nn_reg.score(X_valid, y_valid))\n",
    "display(nn_reg.model)"
   ]
  },
  {
   "cell_type": "code",
   "execution_count": null,
   "id": "61df711b",
   "metadata": {},
   "outputs": [],
   "source": [
    "nn_reg = \\\n",
    "    KerasRegressor(\n",
    "        model=build_model,\n",
    "        random_state=42,\n",
    "        optimizer=SGD,\n",
    "        loss=\"mse\",\n",
    "        epochs=100,\n",
    "        batch_size=16,\n",
    "    )\n",
    "nn_reg.fit(\n",
    "    X_train, y_train, \n",
    "    validation_data=(X_valid, y_valid),\n",
    "    callbacks=[EarlyStopping(patience=10)],\n",
    ")\n",
    "print(nn_reg.score(X_valid, y_valid))\n",
    "display(nn_reg.model)"
   ]
  },
  {
   "cell_type": "markdown",
   "id": "021f83a4",
   "metadata": {
    "ExecuteTime": {
     "end_time": "2022-08-16T12:31:34.903369Z",
     "start_time": "2022-08-16T12:31:34.898371Z"
    },
    "scrolled": true
   },
   "source": [
    "# <font color=black>[2] Test Models (Option 0)"
   ]
  },
  {
   "cell_type": "code",
   "execution_count": null,
   "id": "afd93f5e",
   "metadata": {
    "ExecuteTime": {
     "end_time": "2022-10-26T02:02:11.758012Z",
     "start_time": "2022-10-26T02:02:11.730016Z"
    },
    "scrolled": true
   },
   "outputs": [],
   "source": [
    "# R-Squared on Test-Set\n",
    "print(\"Regression Model's Test Score\")\n",
    "print(\"Linear         :\", lin_reg.score(X_test, y_test))\n",
    "print(\"Ridge          :\", ridge_reg.score(X_test, y_test))\n",
    "print(\"Lasso          :\", lasso_reg.score(X_test, y_test))\n",
    "print(\"Elastic Net    :\", elnet_reg.score(X_test, y_test))\n",
    "print(\"SGD Ridge      :\", sgd_ridge_reg.score(X_test, y_test))\n",
    "print(\"SGD Lasso      :\", sgd_lasso_reg.score(X_test, y_test))\n",
    "print(\"SGD Elastic Net:\", sgd_elnet_reg.score(X_test, y_test))\n",
    "print(\"Neural Network :\", nn_reg.score(X_test, y_test))"
   ]
  },
  {
   "cell_type": "markdown",
   "id": "0ccf60ec",
   "metadata": {},
   "source": [
    "# <font color=blue>[5] Fine-Tune Models with Radomized Search Cross-Validation (Option 2)"
   ]
  },
  {
   "cell_type": "code",
   "execution_count": null,
   "id": "3c85968a",
   "metadata": {
    "ExecuteTime": {
     "end_time": "2022-10-26T01:36:31.672946Z",
     "start_time": "2022-10-26T01:36:31.659946Z"
    }
   },
   "outputs": [],
   "source": [
    "from sklearn.model_selection import RandomizedSearchCV\n",
    "RandomizedSearchCV?"
   ]
  },
  {
   "cell_type": "code",
   "execution_count": null,
   "id": "95cc12a8",
   "metadata": {
    "ExecuteTime": {
     "end_time": "2022-10-26T01:36:31.687945Z",
     "start_time": "2022-10-26T01:36:31.674946Z"
    }
   },
   "outputs": [],
   "source": [
    "from scipy.stats import randint, uniform, loguniform"
   ]
  },
  {
   "cell_type": "code",
   "execution_count": null,
   "id": "8884940f",
   "metadata": {
    "ExecuteTime": {
     "end_time": "2022-10-26T01:36:31.732945Z",
     "start_time": "2022-10-26T01:36:31.689946Z"
    }
   },
   "outputs": [],
   "source": [
    "if len(pd.merge(X_train, X_valid, left_index=True, right_index=True)) == 0:\n",
    "    X_train, y_train = pd.concat([X_train, X_valid]), pd.concat([y_train, y_valid])"
   ]
  },
  {
   "cell_type": "markdown",
   "id": "d37638b7",
   "metadata": {},
   "source": [
    "## <font color=blue>[3] Fine-Tune Regularized Models"
   ]
  },
  {
   "cell_type": "markdown",
   "id": "3ea638af",
   "metadata": {},
   "source": [
    "### <font color=blue>[5] Fine-Tune Ridge Models"
   ]
  },
  {
   "cell_type": "code",
   "execution_count": null,
   "id": "f59d4efc",
   "metadata": {
    "ExecuteTime": {
     "end_time": "2022-10-26T01:36:32.003265Z",
     "start_time": "2022-10-26T01:36:31.733946Z"
    }
   },
   "outputs": [],
   "source": [
    "from sklearn.linear_model import Ridge\n",
    "ridge_reg = Ridge(random_state=42)\n",
    "\n",
    "# params = {'alpha': [1e-2, 1e-1, 1e0, 1e1, 1e2]}\n",
    "params = {'alpha': uniform(1e-2, 1e2)}\n",
    "ridge_rand_cv = RandomizedSearchCV(random_state=42, \n",
    "                                   estimator=ridge_reg, \n",
    "                                   param_distributions=params, \n",
    "                                   n_iter=10,\n",
    "                                   return_train_score=True,\n",
    "                                   n_jobs=-1,\n",
    "                                  ) # Write your code here.\n",
    "ridge_rand_cv.fit(X_train, y_train.to_numpy().ravel())\n",
    "print(ridge_rand_cv.best_score_)\n",
    "print(ridge_rand_cv.best_params_)\n",
    "ridge_reg = ridge_rand_cv.best_estimator_"
   ]
  },
  {
   "cell_type": "markdown",
   "id": "a641e369",
   "metadata": {},
   "source": [
    "Let's reduce the search range and spacing."
   ]
  },
  {
   "cell_type": "code",
   "execution_count": null,
   "id": "030ffa25",
   "metadata": {
    "ExecuteTime": {
     "end_time": "2022-10-26T01:36:33.178266Z",
     "start_time": "2022-10-26T01:36:32.005270Z"
    }
   },
   "outputs": [],
   "source": [
    "from sklearn.linear_model import Ridge\n",
    "ridge_reg = Ridge(random_state=42)\n",
    "\n",
    "# params = {'alpha': [1e-2, 1e-1, 1e0, 1e1, 1e2]}\n",
    "params = {'alpha': uniform(1e0, 1e2)}\n",
    "ridge_rand_cv = RandomizedSearchCV(random_state=42, \n",
    "                                   estimator=ridge_reg, \n",
    "                                   param_distributions=params, \n",
    "                                   n_iter=100,\n",
    "                                   return_train_score=True,\n",
    "                                   n_jobs=-1,\n",
    "                                  ) # Write your code here.\n",
    "ridge_rand_cv.fit(X_train, y_train.to_numpy().ravel())\n",
    "print(ridge_rand_cv.best_score_)\n",
    "print(ridge_rand_cv.best_params_)\n",
    "ridge_reg = ridge_rand_cv.best_estimator_"
   ]
  },
  {
   "cell_type": "markdown",
   "id": "dbdab6fb",
   "metadata": {},
   "source": [
    "### <font color=blue>[5] Fine-Tune Lasso Models"
   ]
  },
  {
   "cell_type": "code",
   "execution_count": null,
   "id": "9c64842c",
   "metadata": {
    "ExecuteTime": {
     "end_time": "2022-10-26T01:36:33.662285Z",
     "start_time": "2022-10-26T01:36:33.180268Z"
    }
   },
   "outputs": [],
   "source": [
    "# Write your code here.\n",
    "from sklearn.linear_model import Lasso\n",
    "lasso_reg = Lasso(random_state=42,\n",
    "                  max_iter=10000000,\n",
    "                 ) # Write your code here.\n",
    "\n",
    "# params = {'alpha': uniform(1e-2, 1e2)}\n",
    "params = {'alpha': uniform(1e-4, 1e-2)}\n",
    "lasso_rand_cv = RandomizedSearchCV(random_state=42, \n",
    "                                   estimator=lasso_reg, \n",
    "                                   param_distributions=params, \n",
    "                                   return_train_score=True,\n",
    "                                   n_iter=10,\n",
    "                                   n_jobs=-1,\n",
    "                                  )\n",
    "lasso_rand_cv.fit(X_train, y_train.to_numpy().ravel())\n",
    "print(lasso_rand_cv.best_score_)\n",
    "print(lasso_rand_cv.best_params_)\n",
    "lasso_reg = lasso_rand_cv.best_estimator_"
   ]
  },
  {
   "cell_type": "code",
   "execution_count": null,
   "id": "bd3d8f0a",
   "metadata": {
    "ExecuteTime": {
     "end_time": "2022-10-26T01:36:39.310286Z",
     "start_time": "2022-10-26T01:36:33.674285Z"
    }
   },
   "outputs": [],
   "source": [
    "# Write your code here.\n",
    "from sklearn.linear_model import Lasso\n",
    "lasso_reg = Lasso(random_state=42,\n",
    "                  max_iter=10000000,\n",
    "                 ) # Write your code here.\n",
    "\n",
    "params = {'alpha': uniform(1e-4, 1e-2)}\n",
    "lasso_rand_cv = RandomizedSearchCV(random_state=42, \n",
    "                                   estimator=lasso_reg, \n",
    "                                   param_distributions=params, \n",
    "                                   return_train_score=True,\n",
    "                                   n_iter=100,\n",
    "                                   n_jobs=-1,\n",
    "                                  )\n",
    "lasso_rand_cv.fit(X_train, y_train.to_numpy().ravel())\n",
    "print(lasso_rand_cv.best_score_)\n",
    "print(lasso_rand_cv.best_params_)\n",
    "lasso_reg = lasso_rand_cv.best_estimator_"
   ]
  },
  {
   "cell_type": "markdown",
   "id": "50f961b7",
   "metadata": {},
   "source": [
    "### <font color=blue>[5] Fine-Tune Elastic Net Models"
   ]
  },
  {
   "cell_type": "code",
   "execution_count": null,
   "id": "28b36058",
   "metadata": {
    "ExecuteTime": {
     "end_time": "2022-10-26T01:36:39.625287Z",
     "start_time": "2022-10-26T01:36:39.312286Z"
    }
   },
   "outputs": [],
   "source": [
    "# Write your code here.\n",
    "from sklearn.linear_model import ElasticNet\n",
    "elnet_reg = ElasticNet(random_state=42,\n",
    "                       max_iter=10000,\n",
    "                      ) # Write your code here.\n",
    "params = {'alpha': uniform(1e-2, 1e2),\n",
    "          'l1_ratio': uniform(0, 1),\n",
    "         }\n",
    "elnet_rand_cv = RandomizedSearchCV(random_state=42, \n",
    "                                   estimator=elnet_reg, \n",
    "                                   param_distributions=params, \n",
    "                                   return_train_score=True, \n",
    "                                   n_iter=10,\n",
    "                                   n_jobs=-1,\n",
    "                                  ) # Write your code here.\n",
    "elnet_rand_cv.fit(X_train, y_train.to_numpy().ravel())\n",
    "print(elnet_rand_cv.best_score_)\n",
    "print(elnet_rand_cv.best_params_)\n",
    "elnet_reg = elnet_rand_cv.best_estimator_"
   ]
  },
  {
   "cell_type": "code",
   "execution_count": null,
   "id": "59be4d76",
   "metadata": {
    "ExecuteTime": {
     "end_time": "2022-10-26T01:36:41.211285Z",
     "start_time": "2022-10-26T01:36:39.627287Z"
    }
   },
   "outputs": [],
   "source": [
    "# Write your code here.\n",
    "from sklearn.linear_model import ElasticNet\n",
    "elnet_reg = ElasticNet(random_state=42,\n",
    "                       max_iter=10000,\n",
    "                      ) # Write your code here.\n",
    "params = {'alpha': uniform(1e-1, 1e1),\n",
    "          'l1_ratio': uniform(0.0, 1.0),\n",
    "         }\n",
    "elnet_rand_cv = RandomizedSearchCV(random_state=42, \n",
    "                                   estimator=elnet_reg, \n",
    "                                   param_distributions=params, \n",
    "                                   return_train_score=True, \n",
    "                                   n_iter=100,\n",
    "                                   n_jobs=-1,\n",
    "                                  ) # Write your code here.\n",
    "elnet_rand_cv.fit(X_train, y_train.to_numpy().ravel())\n",
    "print(elnet_rand_cv.best_score_)\n",
    "print(elnet_rand_cv.best_params_)\n",
    "elnet_reg = elnet_rand_cv.best_estimator_"
   ]
  },
  {
   "cell_type": "markdown",
   "id": "2756b7f8",
   "metadata": {},
   "source": [
    "## <font color=blue>[5] Fine-Tune SGD Models"
   ]
  },
  {
   "cell_type": "markdown",
   "id": "32ba98b1",
   "metadata": {},
   "source": [
    "### <font color=blue>[5] Fine-Tune SGD Plain Models"
   ]
  },
  {
   "cell_type": "code",
   "execution_count": null,
   "id": "961c1fe6",
   "metadata": {
    "ExecuteTime": {
     "end_time": "2022-10-26T01:36:54.772423Z",
     "start_time": "2022-10-26T01:36:41.213286Z"
    },
    "scrolled": true
   },
   "outputs": [],
   "source": [
    "from sklearn.linear_model import SGDRegressor\n",
    "sgd_plain_reg = SGDRegressor(random_state=42,\n",
    "                             verbose=0,\n",
    "                             penalty=None,\n",
    "                             eta0=1e-4,\n",
    "                             max_iter=1e4,\n",
    "                            ) # Write your code here\n",
    "params = {}\n",
    "sgd_plain_rand_cv = RandomizedSearchCV(random_state=42, \n",
    "                                       estimator=sgd_plain_reg,\n",
    "                                       param_distributions=params,\n",
    "                                       return_train_score=True,\n",
    "                                       n_jobs=-1,\n",
    "                                       n_iter=10,\n",
    "                                      )\n",
    "sgd_plain_rand_cv.fit(X_train, y_train.to_numpy().ravel()) # Write your code here\n",
    "print(\"Best Score:\", sgd_plain_rand_cv.best_score_)\n",
    "print(\"Best Parameters:\", sgd_plain_rand_cv.best_params_)\n",
    "sgd_plain_reg = sgd_plain_rand_cv.best_estimator_"
   ]
  },
  {
   "cell_type": "code",
   "execution_count": null,
   "id": "bea69361",
   "metadata": {
    "ExecuteTime": {
     "end_time": "2022-10-26T01:36:54.787427Z",
     "start_time": "2022-10-26T01:36:54.773428Z"
    }
   },
   "outputs": [],
   "source": [
    "pd.DataFrame(sgd_plain_rand_cv.cv_results_)"
   ]
  },
  {
   "cell_type": "markdown",
   "id": "a0a09dd1",
   "metadata": {},
   "source": [
    "### <font color=blue>[5] Fine-Tune SGD Ridge Models"
   ]
  },
  {
   "cell_type": "code",
   "execution_count": null,
   "id": "0992dc9f",
   "metadata": {
    "ExecuteTime": {
     "end_time": "2022-10-26T01:36:56.588440Z",
     "start_time": "2022-10-26T01:36:54.789430Z"
    },
    "scrolled": true
   },
   "outputs": [],
   "source": [
    "from sklearn.linear_model import SGDRegressor\n",
    "sgd_ridge_reg = SGDRegressor(random_state=42,\n",
    "                             verbose=0,\n",
    "                             penalty='l2',\n",
    "                            ) # Write your code here\n",
    "params = {'alpha': uniform(1e-2, 1e2)}\n",
    "# params = {'alpha': uniform(1e-3, 1e3)}\n",
    "# params = {'alpha': uniform(1e-4, 1e4)}\n",
    "sgd_ridge_rand_cv = RandomizedSearchCV(random_state=42, \n",
    "                                       estimator=sgd_ridge_reg,\n",
    "                                       param_distributions=params,\n",
    "                                       return_train_score=True,\n",
    "                                       n_jobs=-1,\n",
    "                                       n_iter=10,\n",
    "#                                        n_iter=100,\n",
    "#                                        n_iter=1000,\n",
    "#                                        n_iter=10000,\n",
    "                                      )\n",
    "sgd_ridge_rand_cv.fit(X_train, y_train.to_numpy().ravel())\n",
    "print(\"Best Score:\", sgd_ridge_rand_cv.best_score_)\n",
    "print(\"Best Parameters:\", sgd_ridge_rand_cv.best_params_)\n",
    "sgd_ridge_reg = sgd_ridge_rand_cv.best_estimator_"
   ]
  },
  {
   "cell_type": "markdown",
   "id": "301f45fd",
   "metadata": {},
   "source": [
    "Let's try a different way."
   ]
  },
  {
   "cell_type": "code",
   "execution_count": null,
   "id": "83968d7e",
   "metadata": {
    "ExecuteTime": {
     "end_time": "2022-10-26T01:37:44.948031Z",
     "start_time": "2022-10-26T01:36:56.589438Z"
    }
   },
   "outputs": [],
   "source": [
    "from sklearn.linear_model import SGDRegressor\n",
    "sgd_ridge_reg = SGDRegressor(random_state=42,\n",
    "                             verbose=0,\n",
    "                             penalty='l2',\n",
    "                             eta0=1e-4,\n",
    "                             max_iter=1e4,\n",
    "                            ) # Write your code here\n",
    "# params = {'alpha': [1e-2, 1e-1, 1e0, 1e1, 1e2]}\n",
    "params = {'alpha': [1e-4, 1e-3, 1e-2, 1e-1]}\n",
    "sgd_ridge_rand_cv = RandomizedSearchCV(random_state=42, \n",
    "                                       estimator=sgd_ridge_reg,\n",
    "                                       param_distributions=params,\n",
    "                                       return_train_score=True,\n",
    "                                       n_jobs=-1,\n",
    "                                       n_iter=10\n",
    "                                      )\n",
    "sgd_ridge_rand_cv.fit(X_train, y_train.to_numpy().ravel())\n",
    "print(\"Best Score:\", sgd_ridge_rand_cv.best_score_)\n",
    "print(\"Best Parameters:\", sgd_ridge_rand_cv.best_params_)\n",
    "sgd_ridge_reg = sgd_ridge_rand_cv.best_estimator_"
   ]
  },
  {
   "cell_type": "code",
   "execution_count": null,
   "id": "11041cbb",
   "metadata": {
    "ExecuteTime": {
     "end_time": "2022-10-26T01:40:03.646881Z",
     "start_time": "2022-10-26T01:37:44.949032Z"
    }
   },
   "outputs": [],
   "source": [
    "from sklearn.linear_model import SGDRegressor\n",
    "sgd_ridge_reg = SGDRegressor(random_state=42,\n",
    "                             verbose=0,\n",
    "                             penalty='l2',\n",
    "                             eta0=1e-4,\n",
    "                             max_iter=1e4,\n",
    "                            ) # Write your code here\n",
    "params = {'alpha': uniform(1e-3, 1e-1)}\n",
    "sgd_ridge_rand_cv = RandomizedSearchCV(random_state=42, \n",
    "                                       estimator=sgd_ridge_reg,\n",
    "                                       param_distributions=params,\n",
    "                                       return_train_score=True,\n",
    "                                       n_jobs=-1,\n",
    "                                       n_iter=100\n",
    "                                      )\n",
    "sgd_ridge_rand_cv.fit(X_train, y_train.to_numpy().ravel())\n",
    "print(\"Best Score:\", sgd_ridge_rand_cv.best_score_)\n",
    "print(\"Best Parameters:\", sgd_ridge_rand_cv.best_params_)\n",
    "sgd_ridge_reg = sgd_ridge_rand_cv.best_estimator_"
   ]
  },
  {
   "cell_type": "markdown",
   "id": "bd81a1b4",
   "metadata": {},
   "source": [
    "### <font color=blue>[5] Fine-Tune SGD Lasso Models"
   ]
  },
  {
   "cell_type": "code",
   "execution_count": null,
   "id": "7895326a",
   "metadata": {
    "ExecuteTime": {
     "end_time": "2022-10-26T01:40:52.772484Z",
     "start_time": "2022-10-26T01:40:03.647883Z"
    },
    "scrolled": true
   },
   "outputs": [],
   "source": [
    "from sklearn.linear_model import SGDRegressor\n",
    "sgd_lasso_reg = SGDRegressor(random_state=42,\n",
    "                             verbose=0,\n",
    "                             penalty='l1',\n",
    "                             eta0=1e-4,\n",
    "                             max_iter=1e4\n",
    "                            ) # Write your code here\n",
    "params = {'alpha':[1e-2, 1e-1, 1e0, 1e1, 1e2]}\n",
    "sgd_lasso_rand_cv = RandomizedSearchCV(random_state=42, \n",
    "                                       estimator=sgd_lasso_reg,\n",
    "                                       param_distributions=params,\n",
    "                                       return_train_score=True,\n",
    "                                       n_jobs=-1,\n",
    "                                       n_iter=10,\n",
    "                                      )\n",
    "sgd_lasso_rand_cv.fit(X_train, y_train.to_numpy().ravel())\n",
    "print(\"Best Score:\", sgd_lasso_rand_cv.best_score_)\n",
    "print(\"Best Parameters:\", sgd_lasso_rand_cv.best_params_)\n",
    "sgd_lasso_reg = sgd_lasso_rand_cv.best_estimator_"
   ]
  },
  {
   "cell_type": "code",
   "execution_count": null,
   "id": "f906b4b0",
   "metadata": {
    "ExecuteTime": {
     "end_time": "2022-10-26T01:52:45.240485Z",
     "start_time": "2022-10-26T01:40:52.773486Z"
    },
    "scrolled": true
   },
   "outputs": [],
   "source": [
    "from sklearn.linear_model import SGDRegressor\n",
    "sgd_lasso_reg = SGDRegressor(random_state=42,\n",
    "                             verbose=0,\n",
    "                             penalty='l1',\n",
    "                             eta0=1e-4,\n",
    "                             max_iter=1e4\n",
    "                            ) # Write your code here\n",
    "params = {'alpha': uniform(1e0, 1e2)}\n",
    "sgd_lasso_rand_cv = RandomizedSearchCV(random_state=42, \n",
    "                                       estimator=sgd_lasso_reg,\n",
    "                                       param_distributions=params,\n",
    "                                       return_train_score=True,\n",
    "                                       n_jobs=-1,\n",
    "                                       n_iter=100,\n",
    "                                      )\n",
    "sgd_lasso_rand_cv.fit(X_train, y_train.to_numpy().ravel()) # Write your code here\n",
    "print(\"Best Score:\", sgd_lasso_rand_cv.best_score_)\n",
    "print(\"Best Parameters:\", sgd_lasso_rand_cv.best_params_)\n",
    "sgd_lasso_reg = sgd_lasso_rand_cv.best_estimator_"
   ]
  },
  {
   "cell_type": "markdown",
   "id": "1a408638",
   "metadata": {},
   "source": [
    "### <font color=blue>[5] Fine-Tune SGD Elastic Net Models"
   ]
  },
  {
   "cell_type": "code",
   "execution_count": null,
   "id": "a720d7ac",
   "metadata": {
    "ExecuteTime": {
     "end_time": "2022-10-26T01:52:55.885624Z",
     "start_time": "2022-10-26T01:52:45.241486Z"
    }
   },
   "outputs": [],
   "source": [
    "from sklearn.linear_model import SGDRegressor\n",
    "sgd_elnet_reg = SGDRegressor(random_state=42,\n",
    "                             verbose=0,\n",
    "                             penalty='elasticnet',\n",
    "                             eta0=1e-4,\n",
    "                             max_iter=1e4,\n",
    "                            ) # Write your code here\n",
    "params = {'alpha':[1e-2, 1e-1, 1e0, 1e1, 1e2]}\n",
    "sgd_elnet_rand_cv = RandomizedSearchCV(random_state=42,\n",
    "                                       estimator=sgd_elnet_reg,\n",
    "                                       param_distributions=params,\n",
    "                                       return_train_score=True,\n",
    "                                       n_jobs=-1,\n",
    "                                       n_iter=10,\n",
    "                                      )\n",
    "sgd_elnet_rand_cv.fit(X_train, y_train.to_numpy().ravel()) # Write your code here\n",
    "print(\"Best Score:\", sgd_elnet_rand_cv.best_score_)\n",
    "print(\"Best Parameters:\", sgd_elnet_rand_cv.best_params_)\n",
    "sgd_elnet_reg = sgd_elnet_rand_cv.best_estimator_"
   ]
  },
  {
   "cell_type": "code",
   "execution_count": null,
   "id": "12b6dea5",
   "metadata": {
    "ExecuteTime": {
     "end_time": "2022-10-26T02:02:11.728015Z",
     "start_time": "2022-10-26T01:52:55.886626Z"
    }
   },
   "outputs": [],
   "source": [
    "from sklearn.linear_model import SGDRegressor\n",
    "sgd_elnet_reg = SGDRegressor(random_state=42,\n",
    "                             verbose=0,\n",
    "                             penalty='elasticnet',\n",
    "                             eta0=1e-4,\n",
    "                             max_iter=1e4,\n",
    "                            ) # Write your code here\n",
    "params = {'alpha': uniform(1e-4, 1e-2)}\n",
    "sgd_elnet_rand_cv = RandomizedSearchCV(random_state=42,\n",
    "                                       estimator=sgd_elnet_reg,\n",
    "                                       param_distributions=params,\n",
    "                                       return_train_score=True,\n",
    "                                       n_jobs=-1,\n",
    "                                       n_iter=100,\n",
    "                                      )\n",
    "sgd_elnet_rand_cv.fit(X_train, y_train.to_numpy().ravel()) # Write your code here\n",
    "print(\"Best Score:\", sgd_elnet_rand_cv.best_score_)\n",
    "print(\"Best Parameters:\", sgd_elnet_rand_cv.best_params_)\n",
    "sgd_elnet_reg = sgd_elnet_rand_cv.best_estimator_"
   ]
  },
  {
   "cell_type": "markdown",
   "id": "2dda11ac",
   "metadata": {},
   "source": [
    "## <font color=blue>[10] Fine-tune Neural Network Models"
   ]
  },
  {
   "cell_type": "code",
   "execution_count": null,
   "id": "17570a05",
   "metadata": {},
   "outputs": [],
   "source": [
    "def build_model(n_hidden=1, n_neurons=30, activation=\"relu\", input_shape=[13]):\n",
    "    model = # Write your code here\n",
    "    model.add(# Write your code here)\n",
    "    for layer in range(# Write your code here):\n",
    "        model.add(# Write your code here)\n",
    "    model.add(# Write your code here)\n",
    "    return model"
   ]
  },
  {
   "cell_type": "code",
   "execution_count": null,
   "id": "d4ba4c87",
   "metadata": {},
   "outputs": [],
   "source": [
    "from scikeras.wrappers import KerasClassifier, KerasRegressor\n",
    "from keras.optimizers import SGD, Adam, Adagrad\n",
    "from keras.callbacks import EarlyStopping\n",
    "KerasRegressor?"
   ]
  },
  {
   "cell_type": "code",
   "execution_count": null,
   "id": "df4b90d4",
   "metadata": {},
   "outputs": [],
   "source": [
    "pd.DataFrame(nn_rand_cv.cv_results_).to_csv(\"nn_rand_cv.cv_results_.csv\")"
   ]
  },
  {
   "cell_type": "code",
   "execution_count": null,
   "id": "9c6fdb60",
   "metadata": {},
   "outputs": [],
   "source": [
    "from scipy.stats import loguniform\n",
    "from sklearn.model_selection import GridSearchCV, RandomizedSearchCV\n",
    "from keras.optimizers import SGD, Adam, RMSprop, Adagrad\n",
    "\n",
    "nn_reg = KerasRegressor(# Write your code here\n",
    "                       )\n",
    "params = # Write your code here\n",
    "nn_rand_cv = RandomizedSearchCV(# Write your code here\n",
    "                               )\n",
    "nn_rand_cv.fit(# Write your code here\n",
    "              )\n",
    "# nn_reg = nn_rand_cv.best_estimator_\n",
    "# print(\"Best Score:\", nn_rand_cv.best_score_)\n",
    "# print(\"Best Params:\", nn_rand_cv.best_params_)"
   ]
  },
  {
   "cell_type": "code",
   "execution_count": null,
   "id": "03d4cf73",
   "metadata": {},
   "outputs": [],
   "source": [
    "nn_reg = nn_rand_cv.best_estimator_\n",
    "print(\"Best Score:\", nn_rand_cv.best_score_)\n",
    "print(\"Best Params:\", nn_rand_cv.best_params_)"
   ]
  },
  {
   "cell_type": "markdown",
   "id": "021f83a4",
   "metadata": {
    "ExecuteTime": {
     "end_time": "2022-08-16T12:31:34.903369Z",
     "start_time": "2022-08-16T12:31:34.898371Z"
    },
    "scrolled": true
   },
   "source": [
    "# <font color=black>[2] Test Models (Option 2)"
   ]
  },
  {
   "cell_type": "code",
   "execution_count": null,
   "id": "afd93f5e",
   "metadata": {
    "ExecuteTime": {
     "end_time": "2022-10-26T02:02:11.758012Z",
     "start_time": "2022-10-26T02:02:11.730016Z"
    },
    "scrolled": true
   },
   "outputs": [],
   "source": [
    "# R-Squared on Test-Set\n",
    "print(\"Regression Model's Test Score\")\n",
    "print(\"Linear         :\", lin_reg.score(X_test, y_test))\n",
    "print(\"Ridge          :\", ridge_reg.score(X_test, y_test))\n",
    "print(\"Lasso          :\", lasso_reg.score(X_test, y_test))\n",
    "print(\"Elastic Net    :\", elnet_reg.score(X_test, y_test))\n",
    "print(\"SGD Ridge      :\", sgd_ridge_reg.score(X_test, y_test))\n",
    "print(\"SGD Lasso      :\", sgd_lasso_reg.score(X_test, y_test))\n",
    "print(\"SGD Elastic Net:\", sgd_elnet_reg.score(X_test, y_test))\n",
    "print(\"Neural Network :\", nn_reg.score(X_test, y_test))"
   ]
  },
  {
   "cell_type": "markdown",
   "id": "ecb0313e",
   "metadata": {},
   "source": [
    "Let's compare the scores with the previous ones."
   ]
  },
  {
   "cell_type": "markdown",
   "id": "19bb24ee",
   "metadata": {},
   "source": [
    "# <font color=black> Supplements"
   ]
  },
  {
   "cell_type": "markdown",
   "id": "8cc31cc4",
   "metadata": {},
   "source": [
    "# <font color=black>Exercises"
   ]
  },
  {
   "cell_type": "markdown",
   "id": "72cb8e2d",
   "metadata": {},
   "source": [
    "## <font color=blue>[10] Enter appropriate codes where the comments say \"Write your code here\"."
   ]
  },
  {
   "cell_type": "markdown",
   "id": "24024289",
   "metadata": {},
   "source": [
    "## <font color=blue>[10] Train models with polynomial features and compare their performance with each other."
   ]
  },
  {
   "cell_type": "markdown",
   "id": "33f318a6",
   "metadata": {
    "ExecuteTime": {
     "end_time": "2022-08-03T15:33:00.911631Z",
     "start_time": "2022-08-03T15:33:00.897631Z"
    }
   },
   "source": [
    "# References"
   ]
  },
  {
   "cell_type": "markdown",
   "id": "1575631e",
   "metadata": {},
   "source": [
    "## <font color=blue>How to Install TensorFlow on an M1 MacBook"
   ]
  },
  {
   "cell_type": "markdown",
   "id": "f9f558b8",
   "metadata": {},
   "source": [
    "## <font color=blue>SciKeras"
   ]
  },
  {
   "cell_type": "markdown",
   "id": "a8dc03fa",
   "metadata": {},
   "source": [
    "Follow the \"Users Installation\" here:<br>\n",
    "https://www.adriangb.com/scikeras/stable/install.html"
   ]
  },
  {
   "cell_type": "markdown",
   "id": "ea7eef07",
   "metadata": {},
   "source": [
    "## <font color=blue>Why Deep Learning over Traditional Machine Learning?"
   ]
  },
  {
   "cell_type": "markdown",
   "id": "322ba1ec",
   "metadata": {},
   "source": [
    "https://towardsdatascience.com/why-deep-learning-is-needed-over-traditional-machine-learning-1b6a99177063"
   ]
  },
  {
   "cell_type": "markdown",
   "id": "7008d3b1",
   "metadata": {},
   "source": [
    "## <font color=blue>Tips for Hyperparameter Optimization"
   ]
  },
  {
   "cell_type": "markdown",
   "id": "1f64b687",
   "metadata": {},
   "source": [
    "https://machinelearningmastery.com/grid-search-hyperparameters-deep-learning-models-python-keras/#:~:text=Tips%20for%20Hyperparameter%C2%A0Optimization"
   ]
  }
 ],
 "metadata": {
  "kernelspec": {
   "display_name": "Python 3.9.12 ('base')",
   "language": "python",
   "name": "python3"
  },
  "language_info": {
   "codemirror_mode": {
    "name": "ipython",
    "version": 3
   },
   "file_extension": ".py",
   "mimetype": "text/x-python",
   "name": "python",
   "nbconvert_exporter": "python",
   "pygments_lexer": "ipython3",
   "version": "3.9.12"
  },
  "toc": {
   "base_numbering": "0",
   "nav_menu": {},
   "number_sections": true,
   "sideBar": true,
   "skip_h1_title": false,
   "title_cell": "Table of Contents",
   "title_sidebar": "Contents",
   "toc_cell": false,
   "toc_position": {
    "height": "891.2px",
    "left": "150px",
    "top": "111.125px",
    "width": "250px"
   },
   "toc_section_display": true,
   "toc_window_display": true
  },
  "varInspector": {
   "cols": {
    "lenName": 16,
    "lenType": 16,
    "lenVar": 40
   },
   "kernels_config": {
    "python": {
     "delete_cmd_postfix": "",
     "delete_cmd_prefix": "del ",
     "library": "var_list.py",
     "varRefreshCmd": "print(var_dic_list())"
    },
    "r": {
     "delete_cmd_postfix": ") ",
     "delete_cmd_prefix": "rm(",
     "library": "var_list.r",
     "varRefreshCmd": "cat(var_dic_list()) "
    }
   },
   "position": {
    "height": "443.8px",
    "left": "1608.8px",
    "right": "20px",
    "top": "112.963px",
    "width": "355px"
   },
   "types_to_exclude": [
    "module",
    "function",
    "builtin_function_or_method",
    "instance",
    "_Feature"
   ],
   "window_display": true
  },
  "vscode": {
   "interpreter": {
    "hash": "9dc8bec4ee7233f152440a6df3448e4e06a181c4f60a836a039ba0744e9aaa62"
   }
  }
 },
 "nbformat": 4,
 "nbformat_minor": 5
}
